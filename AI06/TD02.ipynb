{
 "cells": [
  {
   "cell_type": "markdown",
   "metadata": {},
   "source": [
    "# AI06 - TD02 : Statistiques pour la mesure"
   ]
  },
  {
   "cell_type": "code",
   "execution_count": 37,
   "metadata": {},
   "outputs": [],
   "source": [
    "import pandas as pd\n",
    "import matplotlib.pyplot as plt\n",
    "import numpy as np\n",
    "from scipy.stats import norm"
   ]
  },
  {
   "cell_type": "markdown",
   "metadata": {},
   "source": [
    "## Exercice 1"
   ]
  },
  {
   "cell_type": "code",
   "execution_count": 38,
   "metadata": {},
   "outputs": [
    {
     "data": {
      "text/html": [
       "<div>\n",
       "<style scoped>\n",
       "    .dataframe tbody tr th:only-of-type {\n",
       "        vertical-align: middle;\n",
       "    }\n",
       "\n",
       "    .dataframe tbody tr th {\n",
       "        vertical-align: top;\n",
       "    }\n",
       "\n",
       "    .dataframe thead th {\n",
       "        text-align: right;\n",
       "    }\n",
       "</style>\n",
       "<table border=\"1\" class=\"dataframe\">\n",
       "  <thead>\n",
       "    <tr style=\"text-align: right;\">\n",
       "      <th></th>\n",
       "      <th>A</th>\n",
       "      <th>B</th>\n",
       "    </tr>\n",
       "  </thead>\n",
       "  <tbody>\n",
       "    <tr>\n",
       "      <th>0</th>\n",
       "      <td>9.27</td>\n",
       "      <td>9.60</td>\n",
       "    </tr>\n",
       "    <tr>\n",
       "      <th>1</th>\n",
       "      <td>8.91</td>\n",
       "      <td>9.80</td>\n",
       "    </tr>\n",
       "    <tr>\n",
       "      <th>2</th>\n",
       "      <td>11.16</td>\n",
       "      <td>9.65</td>\n",
       "    </tr>\n",
       "    <tr>\n",
       "      <th>3</th>\n",
       "      <td>8.86</td>\n",
       "      <td>9.96</td>\n",
       "    </tr>\n",
       "    <tr>\n",
       "      <th>4</th>\n",
       "      <td>7.93</td>\n",
       "      <td>10.36</td>\n",
       "    </tr>\n",
       "    <tr>\n",
       "      <th>5</th>\n",
       "      <td>11.58</td>\n",
       "      <td>10.90</td>\n",
       "    </tr>\n",
       "    <tr>\n",
       "      <th>6</th>\n",
       "      <td>8.89</td>\n",
       "      <td>10.39</td>\n",
       "    </tr>\n",
       "    <tr>\n",
       "      <th>7</th>\n",
       "      <td>13.18</td>\n",
       "      <td>10.02</td>\n",
       "    </tr>\n",
       "    <tr>\n",
       "      <th>8</th>\n",
       "      <td>7.27</td>\n",
       "      <td>10.21</td>\n",
       "    </tr>\n",
       "    <tr>\n",
       "      <th>9</th>\n",
       "      <td>13.01</td>\n",
       "      <td>10.66</td>\n",
       "    </tr>\n",
       "  </tbody>\n",
       "</table>\n",
       "</div>"
      ],
      "text/plain": [
       "       A      B\n",
       "0   9.27   9.60\n",
       "1   8.91   9.80\n",
       "2  11.16   9.65\n",
       "3   8.86   9.96\n",
       "4   7.93  10.36\n",
       "5  11.58  10.90\n",
       "6   8.89  10.39\n",
       "7  13.18  10.02\n",
       "8   7.27  10.21\n",
       "9  13.01  10.66"
      ]
     },
     "execution_count": 38,
     "metadata": {},
     "output_type": "execute_result"
    }
   ],
   "source": [
    "df = pd.DataFrame({\n",
    "    'A' : [9.27, 8.91, 11.16, 8.86, 7.93, 11.58, 8.89, 13.18, 7.27, 13.01],\n",
    "    'B' : [9.6, 9.8, 9.65, 9.96, 10.36, 10.9, 10.39, 10.02, 10.21, 10.66]\n",
    "})\n",
    "\n",
    "df"
   ]
  },
  {
   "cell_type": "code",
   "execution_count": 39,
   "metadata": {},
   "outputs": [
    {
     "data": {
      "text/html": [
       "<div>\n",
       "<style scoped>\n",
       "    .dataframe tbody tr th:only-of-type {\n",
       "        vertical-align: middle;\n",
       "    }\n",
       "\n",
       "    .dataframe tbody tr th {\n",
       "        vertical-align: top;\n",
       "    }\n",
       "\n",
       "    .dataframe thead th {\n",
       "        text-align: right;\n",
       "    }\n",
       "</style>\n",
       "<table border=\"1\" class=\"dataframe\">\n",
       "  <thead>\n",
       "    <tr style=\"text-align: right;\">\n",
       "      <th></th>\n",
       "      <th>A</th>\n",
       "      <th>B</th>\n",
       "    </tr>\n",
       "  </thead>\n",
       "  <tbody>\n",
       "    <tr>\n",
       "      <th>count</th>\n",
       "      <td>10.00000</td>\n",
       "      <td>10.000000</td>\n",
       "    </tr>\n",
       "    <tr>\n",
       "      <th>mean</th>\n",
       "      <td>10.00600</td>\n",
       "      <td>10.155000</td>\n",
       "    </tr>\n",
       "    <tr>\n",
       "      <th>std</th>\n",
       "      <td>2.08179</td>\n",
       "      <td>0.428907</td>\n",
       "    </tr>\n",
       "    <tr>\n",
       "      <th>min</th>\n",
       "      <td>7.27000</td>\n",
       "      <td>9.600000</td>\n",
       "    </tr>\n",
       "    <tr>\n",
       "      <th>25%</th>\n",
       "      <td>8.86750</td>\n",
       "      <td>9.840000</td>\n",
       "    </tr>\n",
       "    <tr>\n",
       "      <th>50%</th>\n",
       "      <td>9.09000</td>\n",
       "      <td>10.115000</td>\n",
       "    </tr>\n",
       "    <tr>\n",
       "      <th>75%</th>\n",
       "      <td>11.47500</td>\n",
       "      <td>10.382500</td>\n",
       "    </tr>\n",
       "    <tr>\n",
       "      <th>max</th>\n",
       "      <td>13.18000</td>\n",
       "      <td>10.900000</td>\n",
       "    </tr>\n",
       "  </tbody>\n",
       "</table>\n",
       "</div>"
      ],
      "text/plain": [
       "              A          B\n",
       "count  10.00000  10.000000\n",
       "mean   10.00600  10.155000\n",
       "std     2.08179   0.428907\n",
       "min     7.27000   9.600000\n",
       "25%     8.86750   9.840000\n",
       "50%     9.09000  10.115000\n",
       "75%    11.47500  10.382500\n",
       "max    13.18000  10.900000"
      ]
     },
     "execution_count": 39,
     "metadata": {},
     "output_type": "execute_result"
    }
   ],
   "source": [
    "df.describe()"
   ]
  },
  {
   "cell_type": "markdown",
   "metadata": {},
   "source": [
    "Question 1 : Capteur le plus juste : A (moyenne la plus proche de la valeur théorique)\n",
    "\n",
    "Question 2 : Capteur le plus fidèle : B (écart type le plus faible)"
   ]
  },
  {
   "cell_type": "markdown",
   "metadata": {},
   "source": [
    "Supposons que A ne soit pas biaisé et que B soit biaisé constamment de +15cm. \n",
    "\n",
    "$\\mu_A = 0m$, $\\mu_B = 0.15m$\n",
    "\n",
    "$\\sigma_A = 2m$, $\\sigma_B = 0.5m$"
   ]
  },
  {
   "cell_type": "code",
   "execution_count": 40,
   "metadata": {},
   "outputs": [
    {
     "data": {
      "image/png": "[encoded data removed]",
      "text/plain": [
       "<Figure size 432x288 with 1 Axes>"
      ]
     },
     "metadata": {
      "needs_background": "light"
     },
     "output_type": "display_data"
    }
   ],
   "source": [
    "x = np.linspace(-3, 3, 1000)\n",
    "\n",
    "ya = norm.pdf(x, loc=0, scale=2)\n",
    "yb = norm.pdf(x, loc=.15, scale=.5)\n",
    "\n",
    "plt.plot(x, ya, label='A')\n",
    "plt.plot(x, yb, label='B')\n",
    "plt.legend()\n",
    "plt.show()"
   ]
  },
  {
   "cell_type": "markdown",
   "metadata": {},
   "source": [
    "### Question 3"
   ]
  },
  {
   "cell_type": "markdown",
   "metadata": {},
   "source": [
    "$\\mathcal{E}_A \\sim \\mathcal{N}(\\mu_A, \\sigma_A^2)$\n",
    "\n",
    "$$\n",
    "\\begin{align*}\n",
    "P(|\\mathcal{E}_A|\\geq 0.1) &= P(\\mathcal{E}_A \\leq 0.1 || \\mathcal{E}_A \\geq 0.1) \\\\\n",
    "                         &= P(\\mathcal{E}_A \\leq 0.1) + P(\\mathcal{E}_A \\geq 0.1) \\\\\n",
    "                         &= P\\left(\\frac{\\mathcal{E}_A}{\\sigma_A} \\leq -\\frac{0.1}{\\sigma_A}\\right) +  P\\left(\\frac{\\mathcal{E}_A}{\\sigma_A} \\geq \\frac{0.1}{\\sigma_A}\\right) \\\\\n",
    "                         &= \\Phi\\left(\\frac{0.1}{\\sigma_A}\\right) + 1 - \\Phi\\left(\\frac{0.1}{\\sigma_A}\\right) \\\\\n",
    "                         &= 2[1 - \\Phi(0.05] \\\\\n",
    "                         &= 2[1 - 0,5199] \\\\\n",
    "                         &= 0.9602\n",
    "\\end{align*}\n",
    "$$"
   ]
  },
  {
   "cell_type": "markdown",
   "metadata": {},
   "source": [
    "$\\mathcal{E}_B \\sim \\mathcal{N}(\\mu_B, \\sigma_B^2)$\n",
    "\n",
    "$\\frac{\\mathcal{E}_B - \\mu_B}{\\sigma_B} \\sim \\mathcal{N}(0,1)$\n",
    "\n",
    "$$\n",
    "\\begin{align*}\n",
    "P(|\\mathcal{E}_B|\\geq 0.1) &= P(\\mathcal{E}_B \\leq 0.1 || \\mathcal{E}_B \\geq 0.1) \\\\\n",
    "                         &= P(\\mathcal{E}_A \\leq 0.1) + P(\\mathcal{E} \\geq 0.1) \\\\\n",
    "                         &= P\\left(\\frac{\\mathcal{E}_B - \\mu_B}{\\sigma_B} \\leq -\\frac{0.1 - \\mu_B}{\\sigma_B}\\right) +  P\\left(\\frac{\\mathcal{E}_B - \\mu_B}{\\sigma_B} \\geq \\frac{0.1 - \\mu_B}{\\sigma_B}\\right) \\\\\n",
    "                         &= \\Phi\\left(\\frac{0.1 - \\mu_B}{\\sigma_B}\\right) + 1 - \\Phi\\left(\\frac{0.1 - \\mu_B}{\\sigma_B}\\right) \\\\\n",
    "                         &= \\Phi\\left(-\\frac{0.25}{0.5}\\right) + 1 - \\Phi\\left(-\\frac{0.05}{0.5}\\right) \\\\\n",
    "                         &= \\Phi(-0.5) + 1 - \\Phi(-0.1) \\\\\n",
    "                         &= 1 - \\Phi(0.5) + 1 - 1 + \\Phi(0.1) \\\\\n",
    "                         &= 1 - 0.6915 + 0.5398 \\\\\n",
    "                         &= 0.8483\n",
    "\\end{align*}\n",
    "$$"
   ]
  },
  {
   "cell_type": "markdown",
   "metadata": {},
   "source": [
    "### Question 4\n",
    "\n",
    "$\\bar{\\mathcal{E}_A} \\sim \\mathcal{N}(0, \\frac{\\sigma_A^2}{n})$ : moyenne sur $n$ valeurs\n",
    "\n",
    "$\\bar{\\mathcal{E}_B} \\sim \\mathcal{N}(\\mu_B, \\frac{\\sigma_B^2}{n})$ : moyenne sur $n$ valeurs\n",
    "\n",
    "$P(|\\mathcal{E}_A| \\geq 0.1) = 2\\left(1 - \\Phi\\left(\\frac{0.1}{\\sigma_A}\\right)\\right)$\n",
    "\n",
    "$P(|\\bar{\\mathcal{E}_A}| \\geq 0.1) = 2\\left(1 - \\Phi\\left(\\frac{0.1}{\\sigma_A/\\sqrt{n}}\\right)\\right)$\n",
    "\n",
    "$P(|\\mathcal{E}_B| \\geq 0.1) = 1 - \\Phi\\left(\\frac{0.1 + \\mu_B}{\\sigma_B}\\right) + \\Phi\\left(\\frac{\\mu_B - 0.1}{\\sigma_B}\\right)$\n",
    "\n",
    "$P(|\\bar{\\mathcal{E}_B}| \\geq 0.1) = 1 - \\Phi\\left(\\frac{0.1 + \\mu_B}{\\sigma_B / \\sqrt{n}}\\right) + \\Phi\\left(\\frac{\\mu_B - 0.1}{\\sigma_B / \\sqrt{n}}\\right)$\n",
    "\n",
    "A partir de $n = 43$, la probabilité d'avoir une erreur supérieure à 10cm devient plus petite avec le capteur A qu'avec le capteur B."
   ]
  },
  {
   "cell_type": "markdown",
   "metadata": {},
   "source": [
    "### Question 5\n",
    "\n",
    "$\\alpha = 0.05$\n",
    "$$\n",
    "\\begin{align*}\n",
    "P(|\\bar{\\mathcal{E}_A} \\leq 0.1) \\leq 1 - \\alpha &\\Leftrightarrow 1 - P(|\\bar{\\mathcal{E}_A}\\geq 0.1) \\geq 1 - \\alpha \\\\\n",
    "                                                 &\\Leftrightarrow 2\\left(1 - \\Phi\\left(\\frac{0.1\\sqrt{n}}{\\sigma_A}\\right)\\right) \\leq \\alpha \\\\\n",
    "                                                 &\\Leftrightarrow \\Phi\\left(\\frac{0.1\\sqrt{n}}{\\sigma_A}\\right) \\geq 1 - \\frac{\\alpha}{2} \\\\\n",
    "                                                 &\\Leftrightarrow \\frac{0.1\\sqrt{n}}{\\sigma_A} \\geq \\Phi^{-1}\\left(1 - \\frac{\\alpha}{2}\\right) \\\\\n",
    "                                                 &\\Leftrightarrow \\sqrt{n} \\geq\\left(\\frac{\\Phi^{-1}\\left(1 - \\frac{\\alpha}{2}\\right)\\sigma_A}{0.1}\\right) \\\\\n",
    "                                                 &\\Leftrightarrow n \\geq \\left(\\frac{\\Phi^{-1}\\left(1 - \\frac{\\alpha}{2}\\right)\\sigma_A}{0.1}\\right)^2 \\\\\n",
    "                                                 &\\Leftrightarrow n \\geq \\left(\\frac{u_{1 - \\frac{\\alpha}{2}}\\sigma_A}{0.1} \\right)^2 \\\\\n",
    "                                                 &\\Leftrightarrow n  \\geq \\left(\\frac{u_{0.975}\\sigma_A}{0.1} \\right)^2 \\\\\n",
    "                                                 &\\Leftrightarrow n \\geq \\left(\\frac{1.96*2}{0.1}\\right)^2 \\\\\n",
    "                                                 &\\Leftrightarrow n \\geq 1536.64\n",
    "\\end{align*}\n",
    "$$"
   ]
  },
  {
   "cell_type": "markdown",
   "metadata": {},
   "source": [
    "## Exercice 2\n",
    "\n",
    "### Question 1"
   ]
  },
  {
   "cell_type": "code",
   "execution_count": 41,
   "metadata": {},
   "outputs": [
    {
     "data": {
      "text/plain": [
       "count    20.000000\n",
       "mean      1.550000\n",
       "std       1.145931\n",
       "min       0.000000\n",
       "25%       1.000000\n",
       "50%       1.500000\n",
       "75%       2.000000\n",
       "max       4.000000\n",
       "dtype: float64"
      ]
     },
     "execution_count": 41,
     "metadata": {},
     "output_type": "execute_result"
    }
   ],
   "source": [
    "serie = pd.Series([0,2,2,3,1,3,1,2,0,1,4,0,2,1,2,1,3,1,0,2])\n",
    "serie.describe()"
   ]
  },
  {
   "cell_type": "code",
   "execution_count": 42,
   "metadata": {},
   "outputs": [
    {
     "data": {
      "text/plain": [
       "(array([4., 6., 6., 3., 1.]),\n",
       " array([0. , 0.8, 1.6, 2.4, 3.2, 4. ]),\n",
       " <a list of 5 Patch objects>)"
      ]
     },
     "execution_count": 42,
     "metadata": {},
     "output_type": "execute_result"
    },
    {
     "data": {
      "image/png": "[encoded data removed]",
      "text/plain": [
       "<Figure size 432x288 with 1 Axes>"
      ]
     },
     "metadata": {
      "needs_background": "light"
     },
     "output_type": "display_data"
    }
   ],
   "source": [
    "plt.hist(serie, bins=5)"
   ]
  },
  {
   "cell_type": "markdown",
   "metadata": {},
   "source": [
    "### Question 2\n",
    "\n",
    "Bienaymé-Tchebycheff : \n",
    "\n",
    "$\\forall \\epsilon > 0$, $\\mathbb{P}(|X - \\mathbb{E}(X)|\\geq \\epsilon) \\leq \\frac{Var(X)}{\\epsilon^2} $\n",
    "\n",
    "Montrer que : \n",
    "\n",
    "$\\forall h > 0, \\mathbb{P}(|X - \\mathbb{E}(X)|\\geq h * \\text{sd}(X)) \\geq 1 - \\frac{1}{h^2}$, avec $\\text{sd}(X) = \\sqrt{Var(X)}$\n",
    "\n",
    "Solution : on pose $\\epsilon = h * \\text{sd}(X)$"
   ]
  },
  {
   "cell_type": "markdown",
   "metadata": {},
   "source": [
    "### Question 3\n",
    "\n",
    "On cherche $\\mathbb{P}(|X - \\mathbb{E}(X)| \\leq h*\\text{sd}(X)) \\geq \\frac{3}{4}$\n",
    "\n",
    "$1 - \\frac{1}{h^2} = \\frac{3}{4} \\Rightarrow h = 2$\n",
    "\n",
    "On a alors : \n",
    "\n",
    "$h = 2, $\n",
    "$$\n",
    "\\begin{align*}\n",
    "\\mathbb{P}(|X - \\mathbb{E}(X)|\\geq 2 * \\text{sd}(X)) &\\geq \\frac{3}{4} \\\\\n",
    "\\mathbb{P}(-2*\\text{sd}(X) \\leq X - \\mathbb{E}(X) \\leq 2 * \\text{sd}(X)) &\\geq \\frac{3}{4} \\\\\n",
    "\\mathbb{P}(\\mathbb{E}(X) -2*\\text{sd}(X) \\leq X \\leq \\mathbb{E}(X) + 2 * \\text{sd}(X)) &\\geq \\frac{3}{4} \\\\\n",
    "x &\\in [\\bar{x} - 2s^*; \\bar{x} + 2s^*]\n",
    "\\end{align*}\n",
    "$$\n",
    "\n",
    "\n"
   ]
  },
  {
   "cell_type": "markdown",
   "metadata": {},
   "source": [
    "### Question 4\n",
    "\n",
    "Cet intervalle va contenir 95% des valeurs, soit plus que les 75% attendus"
   ]
  }
 ],
 "metadata": {
  "kernelspec": {
   "display_name": "Python 3",
   "language": "python",
   "name": "python3"
  },
  "language_info": {
   "codemirror_mode": {
    "name": "ipython",
    "version": 3
   },
   "file_extension": ".py",
   "mimetype": "text/x-python",
   "name": "python",
   "nbconvert_exporter": "python",
   "pygments_lexer": "ipython3",
   "version": "3.7.3"
  }
 },
 "nbformat": 4,
 "nbformat_minor": 2
}
