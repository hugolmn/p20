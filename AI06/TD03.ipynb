{
 "cells": [
  {
   "cell_type": "markdown",
   "metadata": {},
   "source": [
    "# AI06 - TD03 : Incertitude de mesure"
   ]
  },
  {
   "cell_type": "code",
   "execution_count": 73,
   "metadata": {},
   "outputs": [],
   "source": [
    "import numpy as np\n",
    "import pandas as pd\n",
    "import matplotlib.pyplot as plt"
   ]
  },
  {
   "cell_type": "markdown",
   "metadata": {},
   "source": [
    "## Exercice 1 \n",
    "\n",
    "Calcul de la variance : \n",
    "\n",
    "$$Var(g(X_1, \\dots, X_2)) = \\left(\\frac{\\partial g}{\\partial_{X_1}}(x_1^0, \\dots, x_n^0) \\right)^2Var(X_1) + \\dots + \\left(\\frac{\\partial g}{\\partial_{X_n}}(x_1^0, \\dots, x_n^0) \\right)^2Var(X_n)$$\n",
    "\n",
    "Dans cet exercice : $a = \\frac{\\sqrt{F_x^2 + F_y^2}}{m}$\n",
    "\n",
    "Développement: \n",
    "\n",
    "$\\frac{\\partial a}{\\partial F_x} = \\frac{\\partial a}{\\partial u}\\frac{\\partial u}{\\partial F_x} = \\frac{2F_x}{m*2\\sqrt{F_x^2+F_y^2}} = \\frac{F_x}{m\\sqrt{F_x^2+F_y^2}}$\n",
    "\n",
    "$\\frac{\\partial a}{\\partial F_y} = \\frac{\\partial a}{\\partial u}\\frac{\\partial u}{\\partial F_y} = \\frac{2F_y}{m*2\\sqrt{F_x^2+F_y^2}} = \\frac{F_y}{m\\sqrt{F_x^2+F_y^2}}$\n",
    "\n",
    "$\\frac{\\partial a}{\\partial m} = -\\frac{\\sqrt{F_x^2+F_y^2}}{m^2}$\n",
    "\n",
    "On a donc : \n",
    "\n",
    "$$\\begin{align*}Var(a) &= \\left( \\frac{\\partial a}{\\partial F_x} \\right)^2Var(x) + \\left( \\frac{\\partial a}{\\partial F_y} \\right)^2Var(y) + \\left( \\frac{\\partial a}{\\partial m} \\right)^2Var(m) \\\\\t   &= \\left( \\frac{F_x}{m\\sqrt{F_x^2+F_y^2}} \\right)^2\\sigma(x)^2 + \\left( \\frac{F_y}{m\\sqrt{F_x^2+F_y^2}} \\right)^2\\sigma (y)^2 + \\left( -\\frac{\\sqrt{F_x^2+F_y^2}}{m^2} \\right)^2\\sigma(m)^2\\end{align*}$$\n",
    "\n",
    "\n",
    "\n",
    "Application numérique :\n",
    "\n",
    "$\\sigma_x = 0.05N \\Rightarrow \\sigma_x^2 = 0.0025$\n",
    "\n",
    "$\\sigma_y = 0.05N \\Rightarrow \\sigma_y^2 = 0.0025$\n",
    "\n",
    "$\\frac{\\sigma_m}{m} = 0.5\\% \\Rightarrow \\sigma_m = 0.5/100*0.185 = 9.25*10^{-4} \\Rightarrow \\sigma_m^2 = 8.55625*10^{-7} $\n",
    "\n",
    "\n",
    "\n",
    "\n",
    "\n",
    "\n"
   ]
  },
  {
   "cell_type": "code",
   "execution_count": 65,
   "metadata": {},
   "outputs": [],
   "source": [
    "Fx = 0.8\n",
    "Fy = 1.4\n",
    "m = 0.185"
   ]
  },
  {
   "cell_type": "code",
   "execution_count": 66,
   "metadata": {},
   "outputs": [],
   "source": [
    "var_x = 0.05**2\n",
    "var_y = 0.05**2\n",
    "var_m = (0.5/100*m)**2"
   ]
  },
  {
   "cell_type": "code",
   "execution_count": 67,
   "metadata": {},
   "outputs": [
    {
     "name": "stdout",
     "output_type": "stream",
     "text": [
      "Variance de a : 0.0749\n"
     ]
    }
   ],
   "source": [
    "var_a = (Fx/(m*np.sqrt(Fx**2 + Fy**2)))**2*var_x + (Fy/(m*np.sqrt(Fx**2 + Fy**2)))**2*var_y + (-np.sqrt(Fx**2 + Fy**2)/(m**2))**2*var_m\n",
    "print('Variance de a : {:.4f}'.format(var_a))"
   ]
  },
  {
   "cell_type": "code",
   "execution_count": 68,
   "metadata": {},
   "outputs": [
    {
     "name": "stdout",
     "output_type": "stream",
     "text": [
      "Ecart-type de a : 0.2738\n"
     ]
    }
   ],
   "source": [
    "sigma_a = np.sqrt(var_a)\n",
    "print('Ecart-type de a : {:.4f}'.format(sigma_a))"
   ]
  },
  {
   "cell_type": "code",
   "execution_count": 69,
   "metadata": {},
   "outputs": [
    {
     "name": "stdout",
     "output_type": "stream",
     "text": [
      "a = 8.7160 +/- 0.2738 m.s^(-2)\n",
      "Invertitude relative : 3.1409%\n"
     ]
    }
   ],
   "source": [
    "a = np.sqrt(Fx**2 + Fy**2)/m\n",
    "print('a = {:.4f} +/- {:.4f} m.s^(-2)'.format(a, sigma_a))\n",
    "print('Invertitude relative : {:2.4%}'.format(sigma_a/a))"
   ]
  },
  {
   "cell_type": "markdown",
   "metadata": {},
   "source": [
    "## Exercice 2"
   ]
  },
  {
   "cell_type": "code",
   "execution_count": 70,
   "metadata": {},
   "outputs": [],
   "source": [
    "df = pd.DataFrame({\n",
    "    'x' : [2.02, 2.66, 3.72, 5.73, 8.97, 9.08],\n",
    "    'y' : [9.29, 10.4, 10.89, 16.27, 22.88, 23.16]\n",
    "})"
   ]
  },
  {
   "cell_type": "code",
   "execution_count": 77,
   "metadata": {},
   "outputs": [
    {
     "data": {
      "image/png": "[encoded data removed]",
      "text/plain": [
       "<Figure size 432x288 with 1 Axes>"
      ]
     },
     "metadata": {
      "needs_background": "light"
     },
     "output_type": "display_data"
    }
   ],
   "source": [
    "plt.scatter(df.x, df.y)\n",
    "plt.show()"
   ]
  }
 ],
 "metadata": {
  "kernelspec": {
   "display_name": "Python 3",
   "language": "python",
   "name": "python3"
  },
  "language_info": {
   "codemirror_mode": {
    "name": "ipython",
    "version": 3
   },
   "file_extension": ".py",
   "mimetype": "text/x-python",
   "name": "python",
   "nbconvert_exporter": "python",
   "pygments_lexer": "ipython3",
   "version": "3.7.3"
  }
 },
 "nbformat": 4,
 "nbformat_minor": 2
}
