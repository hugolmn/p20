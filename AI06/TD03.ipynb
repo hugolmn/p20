{
 "cells": [
  {
   "cell_type": "markdown",
   "metadata": {},
   "source": [
    "# AI06 - TD03 : Incertitude de mesure"
   ]
  },
  {
   "cell_type": "code",
   "execution_count": 73,
   "metadata": {},
   "outputs": [],
   "source": [
    "import numpy as np\n",
    "import pandas as pd\n",
    "import matplotlib.pyplot as plt"
   ]
  },
  {
   "cell_type": "markdown",
   "metadata": {},
   "source": [
    "## Exercice 1 \n",
    "\n",
    "Calcul de la variance : \n",
    "\n",
    "$$Var(g(X_1, \\dots, X_2)) = \\left(\\frac{\\partial g}{\\partial_{X_1}}(x_1^0, \\dots, x_n^0) \\right)^2Var(X_1) + \\dots + \\left(\\frac{\\partial g}{\\partial_{X_n}}(x_1^0, \\dots, x_n^0) \\right)^2Var(X_n)$$\n",
    "\n",
    "Dans cet exercice : $a = \\frac{\\sqrt{F_x^2 + F_y^2}}{m}$\n",
    "\n",
    "Développement: \n",
    "\n",
    "$\\frac{\\partial a}{\\partial F_x} = \\frac{\\partial a}{\\partial u}\\frac{\\partial u}{\\partial F_x} = \\frac{2F_x}{m*2\\sqrt{F_x^2+F_y^2}} = \\frac{F_x}{m\\sqrt{F_x^2+F_y^2}}$\n",
    "\n",
    "$\\frac{\\partial a}{\\partial F_y} = \\frac{\\partial a}{\\partial u}\\frac{\\partial u}{\\partial F_y} = \\frac{2F_y}{m*2\\sqrt{F_x^2+F_y^2}} = \\frac{F_y}{m\\sqrt{F_x^2+F_y^2}}$\n",
    "\n",
    "$\\frac{\\partial a}{\\partial m} = -\\frac{\\sqrt{F_x^2+F_y^2}}{m^2}$\n",
    "\n",
    "On a donc : \n",
    "\n",
    "$$\\begin{align*}Var(a) &= \\left( \\frac{\\partial a}{\\partial F_x} \\right)^2Var(x) + \\left( \\frac{\\partial a}{\\partial F_y} \\right)^2Var(y) + \\left( \\frac{\\partial a}{\\partial m} \\right)^2Var(m) \\\\\t   &= \\left( \\frac{F_x}{m\\sqrt{F_x^2+F_y^2}} \\right)^2\\sigma(x)^2 + \\left( \\frac{F_y}{m\\sqrt{F_x^2+F_y^2}} \\right)^2\\sigma (y)^2 + \\left( -\\frac{\\sqrt{F_x^2+F_y^2}}{m^2} \\right)^2\\sigma(m)^2\\end{align*}$$\n",
    "\n",
    "\n",
    "\n",
    "Application numérique :\n",
    "\n",
    "$\\sigma_x = 0.05N \\Rightarrow \\sigma_x^2 = 0.0025$\n",
    "\n",
    "$\\sigma_y = 0.05N \\Rightarrow \\sigma_y^2 = 0.0025$\n",
    "\n",
    "$\\frac{\\sigma_m}{m} = 0.5\\% \\Rightarrow \\sigma_m = 0.5/100*0.185 = 9.25*10^{-4} \\Rightarrow \\sigma_m^2 = 8.55625*10^{-7} $\n",
    "\n",
    "\n",
    "\n",
    "\n",
    "\n",
    "\n"
   ]
  },
  {
   "cell_type": "code",
   "execution_count": 65,
   "metadata": {},
   "outputs": [],
   "source": [
    "Fx = 0.8\n",
    "Fy = 1.4\n",
    "m = 0.185"
   ]
  },
  {
   "cell_type": "code",
   "execution_count": 66,
   "metadata": {},
   "outputs": [],
   "source": [
    "var_x = 0.05**2\n",
    "var_y = 0.05**2\n",
    "var_m = (0.5/100*m)**2"
   ]
  },
  {
   "cell_type": "code",
   "execution_count": 67,
   "metadata": {},
   "outputs": [
    {
     "name": "stdout",
     "output_type": "stream",
     "text": [
      "Variance de a : 0.0749\n"
     ]
    }
   ],
   "source": [
    "var_a = (Fx/(m*np.sqrt(Fx**2 + Fy**2)))**2*var_x + (Fy/(m*np.sqrt(Fx**2 + Fy**2)))**2*var_y + (-np.sqrt(Fx**2 + Fy**2)/(m**2))**2*var_m\n",
    "print('Variance de a : {:.4f}'.format(var_a))"
   ]
  },
  {
   "cell_type": "code",
   "execution_count": 68,
   "metadata": {},
   "outputs": [
    {
     "name": "stdout",
     "output_type": "stream",
     "text": [
      "Ecart-type de a : 0.2738\n"
     ]
    }
   ],
   "source": [
    "sigma_a = np.sqrt(var_a)\n",
    "print('Ecart-type de a : {:.4f}'.format(sigma_a))"
   ]
  },
  {
   "cell_type": "code",
   "execution_count": 69,
   "metadata": {},
   "outputs": [
    {
     "name": "stdout",
     "output_type": "stream",
     "text": [
      "a = 8.7160 +/- 0.2738 m.s^(-2)\n",
      "Invertitude relative : 3.1409%\n"
     ]
    }
   ],
   "source": [
    "a = np.sqrt(Fx**2 + Fy**2)/m\n",
    "print('a = {:.4f} +/- {:.4f} m.s^(-2)'.format(a, sigma_a))\n",
    "print('Invertitude relative : {:2.4%}'.format(sigma_a/a))"
   ]
  },
  {
   "cell_type": "markdown",
   "metadata": {},
   "source": [
    "## Exercice 2\n",
    "\n",
    "### Question 1\n",
    "Tracer les points (x,y) observés"
   ]
  },
  {
   "cell_type": "code",
   "execution_count": 70,
   "metadata": {},
   "outputs": [],
   "source": [
    "df = pd.DataFrame({\n",
    "    'x' : [2.02, 2.66, 3.72, 5.73, 8.97, 9.08],\n",
    "    'y' : [9.29, 10.4, 10.89, 16.27, 22.88, 23.16]\n",
    "})"
   ]
  },
  {
   "cell_type": "code",
   "execution_count": 77,
   "metadata": {},
   "outputs": [
    {
     "data": {
      "image/png": "[encoded data removed]",
      "text/plain": [
       "<Figure size 432x288 with 1 Axes>"
      ]
     },
     "metadata": {
      "needs_background": "light"
     },
     "output_type": "display_data"
    }
   ],
   "source": [
    "plt.scatter(df.x, df.y)\n",
    "plt.show()"
   ]
  },
  {
   "cell_type": "markdown",
   "metadata": {},
   "source": [
    "### Question 2\n",
    "On suppose une relation linéaire y = ax + b, calculer les coe\u001e",
    "cients a et b par la méthode des moindres carrés et tracer la droite des moindres carrés.\n",
    "\n",
    "\n",
    "Erreur quadratique : \n",
    "$$\n",
    "E(a,b) = \\sum_{i=1}^n(y_i - (ax_i + b))^2\n",
    "$$\n",
    "Paramètres optimums pour minimiser l'erreur E\n",
    "$$\n",
    "\\hat{a} = \\frac{\\sum_{i=1}^n(x_i - \\bar{x})(y_i - \\bar{y})}{\\sum_{i=1}^n(x_i - \\bar{x})^2} \\\\\n",
    "\\hat{b} = \\bar{y} - \\hat{a}\\bar{x}\n",
    "$$"
   ]
  },
  {
   "cell_type": "code",
   "execution_count": 110,
   "metadata": {},
   "outputs": [],
   "source": [
    "x_bar = np.mean(df.x)\n",
    "y_bar = np.mean(df.y)"
   ]
  },
  {
   "cell_type": "code",
   "execution_count": 111,
   "metadata": {},
   "outputs": [
    {
     "name": "stdout",
     "output_type": "stream",
     "text": [
      "a_hat : 2.02511\n"
     ]
    }
   ],
   "source": [
    "a_hat = np.sum((df.x - x_bar)*(df.y - y_bar)) / (np.sum((df.x - x_bar)**2))\n",
    "print('a_hat : {:.5f}'.format(a_hat))"
   ]
  },
  {
   "cell_type": "code",
   "execution_count": 112,
   "metadata": {},
   "outputs": [
    {
     "name": "stdout",
     "output_type": "stream",
     "text": [
      "b_hat : 4.62031\n"
     ]
    }
   ],
   "source": [
    "b_hat = y_bar - a_hat * x_bar\n",
    "print('b_hat : {:.5f}'.format(b_hat))"
   ]
  },
  {
   "cell_type": "code",
   "execution_count": 113,
   "metadata": {},
   "outputs": [
    {
     "data": {
      "text/plain": [
       "[<matplotlib.lines.Line2D at 0x1d747b3a160>]"
      ]
     },
     "execution_count": 113,
     "metadata": {},
     "output_type": "execute_result"
    },
    {
     "data": {
      "image/png": "[encoded data removed]",
      "text/plain": [
       "<Figure size 432x288 with 1 Axes>"
      ]
     },
     "metadata": {
      "needs_background": "light"
     },
     "output_type": "display_data"
    }
   ],
   "source": [
    "plt.scatter(df.x, df.y)\n",
    "plt.plot(np.linspace(0, 10, 10), a_hat * np.linspace(0, 10, 10) + b_hat)"
   ]
  },
  {
   "cell_type": "markdown",
   "metadata": {},
   "source": [
    "### Question 3\n",
    "Donner une estimation de la variance du bruit de mesure."
   ]
  },
  {
   "cell_type": "code",
   "execution_count": 125,
   "metadata": {},
   "outputs": [
    {
     "data": {
      "text/plain": [
       "0    0.578961\n",
       "1    0.392889\n",
       "2   -1.263731\n",
       "3    0.045792\n",
       "4    0.094426\n",
       "5    0.151664\n",
       "dtype: float64"
      ]
     },
     "execution_count": 125,
     "metadata": {},
     "output_type": "execute_result"
    }
   ],
   "source": [
    "residus = df.y - (a_hat * df.x + b_hat)\n",
    "residus"
   ]
  },
  {
   "cell_type": "code",
   "execution_count": 130,
   "metadata": {},
   "outputs": [
    {
     "data": {
      "text/plain": [
       "0.530147117344608"
      ]
     },
     "execution_count": 130,
     "metadata": {},
     "output_type": "execute_result"
    }
   ],
   "source": [
    "var_noise = (1/(len(df)-2)) * np.sum(residus**2)\n",
    "var_noise"
   ]
  },
  {
   "cell_type": "markdown",
   "metadata": {},
   "source": [
    "### Question 4 & 5\n",
    "\n",
    "Estimer les coeffcients a et b par la méthode des moindres carrés pondérés. (On se limitera à deux itérations)\n",
    "\n",
    " On apprend que la relation théorique entre x et y est : y = 2x + 5. Comparer les erreurs d'estimation des coe\u001e",
    "cients a et b, aux di\u001bérentes itérations de la méthode des moindres carrés pondérés.\n"
   ]
  },
  {
   "cell_type": "code",
   "execution_count": 289,
   "metadata": {},
   "outputs": [],
   "source": [
    "# True parameters\n",
    "a = 2\n",
    "b = 5"
   ]
  },
  {
   "cell_type": "code",
   "execution_count": 294,
   "metadata": {},
   "outputs": [
    {
     "name": "stdout",
     "output_type": "stream",
     "text": [
      "a_hat = 2.02511, b_hat = 4.62031, error = 0.0589052353\n",
      "a_hat = 2.01574, b_hat = 4.77337, error = 0.0020508154\n",
      "a_hat = 2.00986, b_hat = 4.84434, error = 0.0010253511\n"
     ]
    },
    {
     "data": {
      "image/png": "[encoded data removed]",
      "text/plain": [
       "<Figure size 864x432 with 2 Axes>"
      ]
     },
     "metadata": {
      "needs_background": "light"
     },
     "output_type": "display_data"
    }
   ],
   "source": [
    "# Initialisation\n",
    "df['weight'] = 1 / len(df)\n",
    "df\n",
    "\n",
    "err_a = []\n",
    "err_b = []\n",
    "\n",
    "plt.figure(figsize=(12,6))\n",
    "ax1 = plt.subplot(1,2,1)\n",
    "ax2 = plt.subplot(1,2,2)\n",
    "\n",
    "# Main loop\n",
    "for i in range(3):\n",
    "    a_hat = (np.sum(df.weight * df.x * df.y) - np.sum(df.weight * df.x)*np.sum(df.weight * df.y)) / (np.sum(df.weight * df.x**2) - np.sum(df.weight * df.x)**2)\n",
    "    b_hat = np.sum(df.weight * df.y) - a_hat * np.sum(df.weight * df.x)\n",
    "    err = np.sum((df.weight * (df.y - (a_hat * df.x + b_hat)))**2)\n",
    "    print('a_hat = {:.5f}, b_hat = {:.5f}, error = {:.10f}'.format(a_hat, b_hat, err))\n",
    "    df['weight'] = 1 / np.abs(df.y - (a_hat * df.x + b_hat))\n",
    "    df['weight'] = df['weight'] / df['weight'].sum()\n",
    "    \n",
    "    ax1.plot(np.linspace(0,10,10), a_hat*np.linspace(0,10,10) + b_hat, label='iteration {}'.format(i+1))\n",
    "    err_a.append(a - a_hat)\n",
    "    err_b.append(b - b_hat)\n",
    "    \n",
    "ax2.scatter(np.arange(len(err_a)), err_a, color='teal', label='Erreur sur a')\n",
    "ax2.scatter(np.arange(len(err_b)), err_b, color='orange', label='Erreur sur b')\n",
    "\n",
    "ax1.scatter(df.x, df.y)\n",
    "ax2.axhline(0, color='k')\n",
    "ax1.legend()\n",
    "ax2.legend()\n",
    "plt.show()"
   ]
  },
  {
   "cell_type": "code",
   "execution_count": 295,
   "metadata": {},
   "outputs": [
    {
     "data": {
      "text/html": [
       "<div>\n",
       "<style scoped>\n",
       "    .dataframe tbody tr th:only-of-type {\n",
       "        vertical-align: middle;\n",
       "    }\n",
       "\n",
       "    .dataframe tbody tr th {\n",
       "        vertical-align: top;\n",
       "    }\n",
       "\n",
       "    .dataframe thead th {\n",
       "        text-align: right;\n",
       "    }\n",
       "</style>\n",
       "<table border=\"1\" class=\"dataframe\">\n",
       "  <thead>\n",
       "    <tr style=\"text-align: right;\">\n",
       "      <th></th>\n",
       "      <th>x</th>\n",
       "      <th>y</th>\n",
       "      <th>weight</th>\n",
       "    </tr>\n",
       "  </thead>\n",
       "  <tbody>\n",
       "    <tr>\n",
       "      <th>0</th>\n",
       "      <td>2.02</td>\n",
       "      <td>9.29</td>\n",
       "      <td>0.014983</td>\n",
       "    </tr>\n",
       "    <tr>\n",
       "      <th>1</th>\n",
       "      <td>2.66</td>\n",
       "      <td>10.40</td>\n",
       "      <td>0.027597</td>\n",
       "    </tr>\n",
       "    <tr>\n",
       "      <th>2</th>\n",
       "      <td>3.72</td>\n",
       "      <td>10.89</td>\n",
       "      <td>0.004039</td>\n",
       "    </tr>\n",
       "    <tr>\n",
       "      <th>3</th>\n",
       "      <td>5.73</td>\n",
       "      <td>16.27</td>\n",
       "      <td>0.063618</td>\n",
       "    </tr>\n",
       "    <tr>\n",
       "      <th>4</th>\n",
       "      <td>8.97</td>\n",
       "      <td>22.88</td>\n",
       "      <td>0.802353</td>\n",
       "    </tr>\n",
       "    <tr>\n",
       "      <th>5</th>\n",
       "      <td>9.08</td>\n",
       "      <td>23.16</td>\n",
       "      <td>0.087411</td>\n",
       "    </tr>\n",
       "  </tbody>\n",
       "</table>\n",
       "</div>"
      ],
      "text/plain": [
       "      x      y    weight\n",
       "0  2.02   9.29  0.014983\n",
       "1  2.66  10.40  0.027597\n",
       "2  3.72  10.89  0.004039\n",
       "3  5.73  16.27  0.063618\n",
       "4  8.97  22.88  0.802353\n",
       "5  9.08  23.16  0.087411"
      ]
     },
     "execution_count": 295,
     "metadata": {},
     "output_type": "execute_result"
    }
   ],
   "source": [
    "df"
   ]
  }
 ],
 "metadata": {
  "kernelspec": {
   "display_name": "Python 3",
   "language": "python",
   "name": "python3"
  },
  "language_info": {
   "codemirror_mode": {
    "name": "ipython",
    "version": 3
   },
   "file_extension": ".py",
   "mimetype": "text/x-python",
   "name": "python",
   "nbconvert_exporter": "python",
   "pygments_lexer": "ipython3",
   "version": "3.7.3"
  }
 },
 "nbformat": 4,
 "nbformat_minor": 2
}
