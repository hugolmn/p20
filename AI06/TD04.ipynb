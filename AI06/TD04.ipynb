{
 "cells": [
  {
   "cell_type": "markdown",
   "metadata": {},
   "source": [
    "# TD4 : Echantillonnage et quantification"
   ]
  },
  {
   "cell_type": "code",
   "execution_count": 2,
   "metadata": {},
   "outputs": [],
   "source": [
    "import numpy as np\n",
    "import pandas as pd\n",
    "import matplotlib.pyplot as plt"
   ]
  },
  {
   "cell_type": "markdown",
   "metadata": {},
   "source": [
    "## Exercice 1\n",
    "\n",
    "La fonction triangle est définir par : \n",
    "\n",
    "$$\n",
    "x(t) = \\begin{cases} 1 + x & \\text{si} \\ -1 \\leq t \\leq 0 \\\\ 1 - t & \\text{si} \\ 0 \\leq t \\leq 1 \\\\ 0 & \\text{sinon} \\end{cases}\n",
    "$$\n",
    "\n",
    "### Question 1\n",
    "Calculer sa transformée de Fourier.\n",
    "\n",
    "Par définition : \n",
    "$$\n",
    "\\forall f \\in \\mathbb{R}, X(f) = \\int_{-\\infty}^{+\\infty}x(t)\\exp(-i2\\pi ft)dt\n",
    "$$\n",
    "\n",
    "En utilisant une intégration par partie :\n",
    "$$\n",
    "\\begin{align*}\n",
    "X(f) &= \\int_{-1}^{0}x(t)\\exp(-i2\\pi ft)dt + \\int_{0}^{1}x(t)\\exp(-i2\\pi ft)dt \\\\\n",
    "&= \\int_{-1}^{0}(1+t)\\exp(-i2\\pi ft)dt + \\int_{0}^{1}(1-t)\\exp(-i2\\pi ft)dt \\\\\n",
    "\\end{align*}\n",
    "$$\n",
    "\n",
    "Intégration par partie\n",
    "$$\n",
    "\\int uv'dx = [uv] - \\int u'vdx \\\\\n",
    "\\text{avec}\n",
    "\\begin{cases}\n",
    "u = 1+t\\\\\n",
    "u' = 1 \\\\\n",
    "v' = \\exp(-i2\\pi ft)\\\\\n",
    "v = \\frac{\\exp(-i2\\pi ft)}{-2i\\pi f}\n",
    "\\end{cases}\n",
    "$$\n",
    "$$\n",
    "\\begin{align*}\n",
    "\\int_{-1}^0(1+t)\\exp(-i2\\pi ft)dt &= \\left[(1+t)\\frac{\\exp(-i2\\pi ft)}{-2i\\pi f} \\right]_{-1}^0 - \\int_{-1}^0 \\frac{\\exp(-i2\\pi ft)}{-2i\\pi f}dt \\\\\n",
    "\t\t\t\t\t\t\t\t  &= \\frac{1}{-2i\\pi f} + \\frac{1}{2i\\pi f}\\int_{-1}^0 \\exp(-2i\\pi ft)dt \\\\\n",
    "\t\t\t\t\t\t\t\t  &= \\frac{1}{-2i\\pi f} + \\frac{1}{2i\\pi f}\\left[ \\frac{\\exp(-i2\\pi ft)}{-2i\\pi f} \\right]_{-1}^0 \\\\\n",
    "\t\t\t\t\t\t\t\t  &= \\frac{1}{-2i\\pi f} + \\frac{1}{2i\\pi f}\\left( \\frac{\\exp(0)}{-2i\\pi f} - \\frac{\\exp(i2\\pi f)}{-2i\\pi f} \\right) \\\\\n",
    "\t\t\t\t\t\t\t\t  &= \\frac{1}{-2i\\pi f} + \\frac{1}{-2^2i^2\\pi^2 f^2}\\left(1 - \\exp(i2\\pi f)\\right) \\\\\n",
    "\t\t\t\t\t\t\t\t  &= \\frac{i}{2\\pi f} + \\frac{1}{4\\pi^2 f^2}- \\frac{\\exp(i2\\pi f)}{4\\pi^2 f^2}\n",
    "\\end{align*}\n",
    "$$\n",
    "\n",
    "Intégration par partie\n",
    "$$\n",
    "\\int uv'dx = [uv] - \\int u'vdx \\\\\n",
    "\\text{avec}\n",
    "\\begin{cases}\n",
    "u = 1-t\\\\\n",
    "u' = -1 \\\\\n",
    "v' = \\exp(-i2\\pi ft)\\\\\n",
    "v = \\frac{\\exp(-i2\\pi ft)}{-2i\\pi f}\n",
    "\\end{cases}\n",
    "$$\n",
    "$$\n",
    "\\begin{align*}\n",
    "\\int_0^1(1-t)\\exp(-i2\\pi ft)dt &= \\left[(1-t)\\frac{\\exp(-i2\\pi ft)}{-2i\\pi f} \\right]_0^1 - \\int_0^1 -1*\\frac{\\exp(-i2\\pi ft)}{-2i\\pi f}dt \\\\\n",
    "\t\t\t\t\t\t\t\t  &= \\frac{1}{2i\\pi f} - \\frac{1}{2i\\pi f}\\int_0^1 \\exp(-2i\\pi ft)dt \\\\\n",
    "\t\t\t\t\t\t\t\t  &= \\frac{1}{-2i\\pi f} - \\frac{1}{2i\\pi f}\\left[ \\frac{\\exp(-i2\\pi ft)}{-2i\\pi f} \\right]_0^1 \\\\\n",
    "\t\t\t\t\t\t\t\t  &= \\frac{1}{2i\\pi f} - \\frac{1}{2i\\pi f}\\left(\\frac{\\exp(-i2\\pi f)}{-2i\\pi f}  - \\frac{\\exp(0)}{-2i\\pi f} \\right) \\\\\n",
    "\t\t\t\t\t\t\t\t  &= \\frac{1}{2i\\pi f} - \\frac{1}{-2^2i^2\\pi^2 f^2}\\left(\\exp(-i2\\pi f) - 1 \\right) \\\\\n",
    "\t\t\t\t\t\t\t\t  &= -\\frac{i}{2\\pi f} + \\frac{1}{4\\pi^2 f^2}- \\frac{\\exp(-i2\\pi f)}{4\\pi^2 f^2}\n",
    "\\end{align*}\n",
    "$$\n",
    "\n",
    "On s'appuie sur les formules suivantes :\n",
    "\n",
    "- Formule d'Euler : $\\cos(x) = \\frac{\\exp^{ix}+\\exp{-ix}}{2}$\n",
    "- Linéarisation : $\\cos(2x) = 1 - 2\\sin^2(x)\\Rightarrow \\sin^2(x) = \\frac{1-\\cos(2x)}{2}$\n",
    "- Sinus cardinal : $sinc(x) = \\frac{\\sin(x)}{x}$\n",
    "\n",
    "On a ainsi $\\forall t \\neq 0 $:\n",
    "$$\n",
    "\\begin{align*}\n",
    "X(f) &= \\frac{i}{2\\pi f} + \\frac{1}{4\\pi^2 f^2}- \\frac{\\exp(i2\\pi f)}{4\\pi^2 f^2} -\\frac{i}{2\\pi f} + \\frac{1}{4\\pi^2 f^2}- \\frac{\\exp(-i2\\pi f)}{4\\pi^2 f^2} \\\\\n",
    "&= \\frac{2}{4\\pi^2f^2} - \\frac{\\exp(i2\\pi f) + \\exp(-i2\\pi f)}{4\\pi^2f^2} \\\\\n",
    "&= \\frac{2\\cos(2\\pi f) - 2}{-4\\pi^2f^2} \\\\\n",
    "&= \\frac{\\cos(2\\pi f)-1}{-2\\pi^2f^2}\\\\\n",
    "&= \\frac{\\sin^2(\\pi f)}{\\pi^2f^2} \\\\\n",
    "&= \\left( \\frac{\\sin(\\pi f)}{\\pi f} \\right)^2 \\\\\n",
    "&= (sinc(\\pi f))^2\n",
    "\\end{align*}\n",
    "$$\n",
    "\n",
    "Pour $t \\neq 0$ :\n",
    "$$\n",
    "\\begin{align*}\n",
    "X(0) &= \\int_{-\\infty}^{+\\infty} x(t)\\exp(-i2\\pi 0t)dt \\\\\n",
    "&= \\int_{-1}^1 x(t) dt \\\\\n",
    "&= 1\n",
    "\\end{align*}\n",
    "$$\n",
    "\n",
    "Au final :\n",
    "$$\n",
    "X(f) = \\begin{cases} (sinc(\\pi f))^2, & t\\neq 0 \\\\ 1, & t=0 \\end{cases}\n",
    "$$"
   ]
  },
  {
   "cell_type": "code",
   "execution_count": 27,
   "metadata": {},
   "outputs": [
    {
     "data": {
      "image/png": "[encoded data removed]",
      "text/plain": [
       "<Figure size 432x288 with 1 Axes>"
      ]
     },
     "metadata": {
      "needs_background": "light"
     },
     "output_type": "display_data"
    }
   ],
   "source": [
    "x = np.linspace(-2, 2, 100)\n",
    "y = (np.sinc(np.pi * x))**2\n",
    "plt.plot(x, y)\n",
    "plt.title(\"X(f)\")\n",
    "plt.xlabel('f')\n",
    "plt.ylabel('X(f)')\n",
    "plt.show()"
   ]
  },
  {
   "cell_type": "markdown",
   "metadata": {},
   "source": [
    "### Question 2\n",
    "Quelle fréquence d’échantillonnage devrait-on choisir pour ce signal? "
   ]
  },
  {
   "cell_type": "code",
   "execution_count": 30,
   "metadata": {},
   "outputs": [
    {
     "data": {
      "text/plain": [
       "0.9934588265796102"
      ]
     },
     "execution_count": 30,
     "metadata": {},
     "output_type": "execute_result"
    }
   ],
   "source": [
    "fe = np.sqrt(10e-2)*np.pi"
   ]
  },
  {
   "cell_type": "markdown",
   "metadata": {},
   "source": [
    "### Question 3\n",
    "On considère qu’une fréquence d’échantillonnage Fe est raisonnable si : \n",
    "$$\n",
    "\\forall f \\geq F_e, \\left| \\frac{X(f)}{X(0}\\right| \\leq 10^{-2}\n",
    "$$\n",
    "Calculer Fe puis représenter graphiquement le signal échantillonné.\n"
   ]
  }
 ],
 "metadata": {
  "kernelspec": {
   "display_name": "Python 3",
   "language": "python",
   "name": "python3"
  },
  "language_info": {
   "codemirror_mode": {
    "name": "ipython",
    "version": 3
   },
   "file_extension": ".py",
   "mimetype": "text/x-python",
   "name": "python",
   "nbconvert_exporter": "python",
   "pygments_lexer": "ipython3",
   "version": "3.7.3"
  }
 },
 "nbformat": 4,
 "nbformat_minor": 2
}
