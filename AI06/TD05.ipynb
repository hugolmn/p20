{
 "cells": [
  {
   "cell_type": "markdown",
   "metadata": {},
   "source": [
    "# AI06 - TD05"
   ]
  },
  {
   "cell_type": "code",
   "execution_count": 57,
   "metadata": {},
   "outputs": [],
   "source": [
    "import numpy as np\n",
    "import matplotlib.pyplot as plt"
   ]
  },
  {
   "cell_type": "markdown",
   "metadata": {},
   "source": [
    "## Exercice 1\n",
    "\n",
    "### Question 1\n",
    "\n",
    "En supposant les accélérations constantes entre deux mesures et en utilisant les approximations ci-dessous, calculer les positions du mobile en fonction du temps.\n",
    "\n",
    "$$x(t+\\delta t) = x(t) + v(t)\\delta t, \\ v(t+\\delta t) = v(t) + a(t)\\delta t$$\n",
    "\n",
    "\n",
    "| t   | 0    | 0.5  | 1    | 1.5   |\n",
    "|:---:| ---- | ---- | ---- | ----- |\n",
    "| a   | 1    | 0    | -0.5 | 1     |\n",
    "| v   | 0    | 0.5  | 0.25 | 0.75  |\n",
    "| x   | 0    | 0    | 0.25 | 0.375 |"
   ]
  },
  {
   "cell_type": "markdown",
   "metadata": {},
   "source": [
    "### Question 2\n",
    "\n",
    "On souhaite maintenant utiliser une intégration continue en temps pour estimer les vitesses et positions du mobile. On utilise alors les relations suivantes :\n",
    "\n",
    "$$x(t + \\delta t) = x(t) + \\int_t^{t + \\delta t} v(t)dt \\\\\n",
    "v(t + \\delta t) = v(t) + \\int_t^{t + \\delta t} a(t)dt$$"
   ]
  },
  {
   "cell_type": "markdown",
   "metadata": {},
   "source": [
    "$$v(0.5) = v(0) + \\int_0^ta(t)dt = \\int_0^{0.5}1dt = 0.5 \\\\\n",
    "x(0.5) = x(0) + \\int_0^{0.5}v(t)dt = \\int_0^{0.5}tdt = \\left[\\frac{1}{2}t^2\\right]_0^{0.5} = 0.125$$"
   ]
  },
  {
   "cell_type": "markdown",
   "metadata": {},
   "source": [
    "$$v(1) = v(0.5) + \\int_{0.5}^ta(t)dt = v(0.5) = 0.5 \\\\\n",
    "x(1) = x(0.5) + \\int_{0.5}^tv(t)dt = 0.125\\int_{0.5}^10.5dt = 0.375$$"
   ]
  },
  {
   "cell_type": "markdown",
   "metadata": {},
   "source": [
    "$$v(1.5) = v(1) + \\int_1^ta(t)dt = 0.5 + \\int_1^{1.5}-0.5dt = 0.25 \\\\\n",
    "x(1.5) = x(1) + \\int_1^tv(t)dt = 0.375 +\\int_1^{1.5}(1-t/2)dt \\\\= 0.375 + \\left[t-\\frac{t^2}{4}\\right]_1^{1.5} = 0.375 + (1.5 - 1.5^2/4)-(1 - 1/4) = 0.5625$$\n"
   ]
  },
  {
   "cell_type": "markdown",
   "metadata": {},
   "source": [
    "\n",
    "| t   | 0    | 0.5      | 1    | 1.5   |\n",
    "|:---:| ---- | -------- | ---- | ----- |\n",
    "| a   | 1    | 0        | -0.5 | 1     |\n",
    "| v   | 0    | 0.5      | 0.5  | 0.25  |\n",
    "| x   | 0    | 0.125    | 0.375 | 0.5625 |"
   ]
  },
  {
   "cell_type": "code",
   "execution_count": 58,
   "metadata": {},
   "outputs": [],
   "source": [
    "x = np.linspace(0, 1.5, 1000, endpoint=True)"
   ]
  },
  {
   "cell_type": "code",
   "execution_count": 59,
   "metadata": {},
   "outputs": [],
   "source": [
    "speed = []\n",
    "position = []\n",
    "\n",
    "for i in x:\n",
    "    if i <=0.5:\n",
    "        speed.append(i)\n",
    "        position.append(0.5*i**2)\n",
    "    elif 0.5<i<=1:\n",
    "        speed.append(0.5)\n",
    "        position.append(0.125 + 0.5*(i-0.5))\n",
    "    else:\n",
    "        speed.append(0.5 - 0.5*(i-1))\n",
    "        position.append(0.375 + i - (i**2)/4 - 0.75)"
   ]
  },
  {
   "cell_type": "code",
   "execution_count": 60,
   "metadata": {},
   "outputs": [
    {
     "data": {
      "image/png": "[encoded data removed]",
      "text/plain": [
       "<Figure size 432x288 with 1 Axes>"
      ]
     },
     "metadata": {
      "needs_background": "light"
     },
     "output_type": "display_data"
    }
   ],
   "source": [
    "plt.plot(x, speed, label='speed (m/s)')\n",
    "plt.plot(x, position, label='position (m)')\n",
    "plt.legend()\n",
    "plt.xlabel('Temps (s)')\n",
    "plt.show()"
   ]
  },
  {
   "cell_type": "markdown",
   "metadata": {},
   "source": [
    "## Exercice 2\n",
    "### Question 1\n",
    "\\begin{align*}\n",
    "\\Delta x(t) &= x(t + \\delta t) - x(t) = v_x(t)\\delta t \\\\\n",
    "\\Delta y(t) &= y(t + \\delta t) - y(t) = v_y(t)\\delta t \\\\\n",
    "\\Delta \\theta(t) &= \\theta (t + \\delta t) - \\theta (t) = v_\\theta(t)\\delta t\n",
    "\\end{align*}\n",
    "\n",
    "Le tableau de mesure de vitesse donne des valeurs toutes les secondes, en mètres par seconde ou radian par seconde. Les valeurs des déplacements sont donc identiques. On ne fait que multiplier toutes les valeurs par la durée d'un intervalle (une seconde).\n",
    "\n",
    "| t(s)       | 1er intervalle | 2eme intervalle |\n",
    "| ---------- | -------------- | --------------- |\n",
    "| $x$(m)       | 0.1            | 0               |\n",
    "| $y$(m)       | 0.2            | 0.1             |\n",
    "| $\\theta$(rad) | 0.1            | 0.2             |"
   ]
  },
  {
   "cell_type": "markdown",
   "metadata": {},
   "source": [
    "### Question 2\n",
    "\n",
    "D'après les formules données dans le cours, nous avons :\n",
    "$$\n",
    "\\begin{align*}\n",
    "x(t + \\delta t) &= x(t) + \\delta (t) = x(t) + \\Delta x(t)\\cos\\theta(t) - \\Delta y(t)\\sin\\theta(t) \\\\\n",
    "y(t + \\delta t) &= y(t) + \\delta (t) = y(t) + \\Delta x(t)\\sin\\theta (t) + \\Delta y(t)\\cos\\theta(t) \\\\\n",
    "\\theta(t + \\delta t) &= \\theta (t) + \\delta\\theta = \\theta (t) + v_\\theta\\delta t\n",
    "\\end{align*}\n",
    "$$\n",
    "\n",
    "\n",
    "| t(s)       | 0    | 1    | 2    |\n",
    "| ---------- | ---- | ---- | ---- |\n",
    "| x(m)       | 0    | 0.1  | 0.9  |\n",
    "| y(m)       | 0    | 0.2  | 0.3  |\n",
    "| $\\theta$(rad) | 0    | 0.1  | 0.3  |"
   ]
  },
  {
   "cell_type": "markdown",
   "metadata": {},
   "source": [
    "### Question 3\n",
    "On a les valeurs suivantes :\n",
    "$$\n",
    "\\sigma_{v_x} = 0.05m\\cdot s^{-1}, \\quad \\sigma_{v_y} = 0.05m \\cdot s^{-1}, \\quad \\sigma_{v_\\theta} = 0.01 rad \\cdot s^{-1}\n",
    "$$"
   ]
  },
  {
   "cell_type": "markdown",
   "metadata": {},
   "source": [
    "$$\n",
    "\\begin{align*}\n",
    "x(t + \\delta t) &= x(t) + \\delta t(v_x(t)\\cos\\theta(t) - v_y(t)\\sin\\theta(t)) \\\\\n",
    "y(t + \\delta t) &= y(t) + \\delta t(\\delta t(v_x(t)\\sin\\theta(t)) + v_y(t)\\cos\\theta(t)) \\\\\n",
    "\\theta(t + \\delta t) &= \\theta (t) + \\delta tv_\\theta(t)\n",
    "\\end{align*}\n",
    "$$"
   ]
  },
  {
   "cell_type": "markdown",
   "metadata": {},
   "source": [
    "$$\n",
    "\\begin{align*}\n",
    "\\sigma_{x(t+\\delta t)} &\\cong \\sqrt{\\left(\\frac{\\partial x(t + \\delta t)}{\\partial x(t)}\\sigma_{x(t)}\\right)^2 + \\left(\\frac{\\partial x(t + \\delta t)}{\\partial v_x(t)}\\sigma_{v_x(t)}\\right)^2 + \\left(\\frac{\\partial x(t + \\delta t)}{\\partial v_y(t)}\\sigma_{v_y(t)}\\right)^2 + \\left(\\frac{\\partial x(t + \\delta t)}{\\partial \\theta(t)}\\sigma_{\\theta(t)}\\right)^2} \\\\\n",
    "&\\cong \\sqrt{\\sigma_{x(t)}^2 + (cos\\theta(t)\\delta t \\sigma_{v_x})^2+ (sin\\theta(t)\\delta t \\sigma_{v_y})^2+ ((-\\sin\\theta(t)v_x(t) - \\cos\\theta(t)v_y(t))\\delta t \\sigma_\\theta)^2}\n",
    "\\end{align*}\n",
    "$$"
   ]
  },
  {
   "cell_type": "markdown",
   "metadata": {},
   "source": [
    "$$\n",
    "\\begin{align*}\n",
    "\\sigma_{y(t+\\delta t)} &\\cong \\sqrt{\\left(\\frac{\\partial y(t + \\delta t)}{\\partial x(t)}\\sigma_{y(t)}\\right)^2 + \\left(\\frac{\\partial y(t + \\delta t)}{\\partial v_x(t)}\\sigma_{v_x(t)}\\right)^2 + \\left(\\frac{\\partial y(t + \\delta t)}{\\partial v_y(t)}\\sigma_{v_y(t)}\\right)^2 + \\left(\\frac{\\partial y(t + \\delta t)}{\\partial \\theta(t)}\\sigma_{\\theta(t)}\\right)^2} \\\\\n",
    "&\\cong \\sqrt{\\sigma_{y(t)}^2 + (cos\\theta(t)\\delta t \\sigma_{v_x})^2+ (sin\\theta(t)\\delta t \\sigma_{v_y})^2+ ((\\cos\\theta(t)v_x(t) - \\sin\\theta(t)v_y(t))\\delta t \\sigma_\\theta)^2}\n",
    "\\end{align*}\n",
    "$$"
   ]
  },
  {
   "cell_type": "markdown",
   "metadata": {},
   "source": [
    "$$\n",
    "\\begin{align*}\n",
    "\\sigma_{x(t+\\delta t)} &\\cong \\sqrt{\\left(\\frac{\\partial \\theta(t + \\delta t)}{\\partial \\theta(t)}\\sigma_{\\theta(t)}\\right)^2 + \\left(\\frac{\\partial x(t + \\delta t)}{\\partial v_\\theta(t)}\\sigma_{v_\\theta(t)}\\right)^2 } \\\\\n",
    "&\\cong \\sqrt{\\sigma_{\\theta(t)}^2 + (\\delta t \\sigma_{v_\\theta})^2}\n",
    "\\end{align*}\n",
    "$$"
   ]
  },
  {
   "cell_type": "markdown",
   "metadata": {},
   "source": [
    "L'intervalle de confiance à 95\\% correspond aux valeurs obtenues à la question 2 $\\pm 2\\sigma$ avec $\\sigma$ donné par les expressions ci-dessus.\n"
   ]
  }
 ],
 "metadata": {
  "kernelspec": {
   "display_name": "Python 3",
   "language": "python",
   "name": "python3"
  },
  "language_info": {
   "codemirror_mode": {
    "name": "ipython",
    "version": 3
   },
   "file_extension": ".py",
   "mimetype": "text/x-python",
   "name": "python",
   "nbconvert_exporter": "python",
   "pygments_lexer": "ipython3",
   "version": "3.7.3"
  }
 },
 "nbformat": 4,
 "nbformat_minor": 2
}
