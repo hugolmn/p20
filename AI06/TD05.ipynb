{
 "cells": [
  {
   "cell_type": "markdown",
   "metadata": {},
   "source": [
    "# AI06 - TD06"
   ]
  },
  {
   "cell_type": "code",
   "execution_count": 2,
   "metadata": {},
   "outputs": [],
   "source": [
    "import numpy\n",
    "import matplotlib.pyplot as plt"
   ]
  },
  {
   "cell_type": "markdown",
   "metadata": {},
   "source": [
    "## Exercice 1\n",
    "\n",
    "### Question 1\n",
    "\n",
    "En supposant les accélérations constantes entre deux mesures et en utilisant les approximations ci-dessous, calculer les positions du mobile en fonction du temps.\n",
    "\n",
    "$$x(t+\\delta t) = x(t) + v(t)\\delta t, \\ v(t+\\delta t) = v(t) + a(t)\\delta t$$\n",
    "\n",
    "\n",
    "| t   | 0    | 0.5  | 1    | 1.5   |\n",
    "|:---:| ---- | ---- | ---- | ----- |\n",
    "| a   | 1    | 0    | -0.5 | 1     |\n",
    "| v   | 0    | 0.5  | 0.25 | 0.75  |\n",
    "| x   | 0    | 0    | 0.25 | 0.375 |\n",
    "\n",
    "### Question 2\n",
    "\n",
    "On souhaite maintenant utiliser une intégration continue en temps pour estimer les vitesses et positions du mobile. On utilise alors les relations suivantes :\n",
    "\n",
    "$$x(t + \\delta t) = x(t) + \\int_t^{t + \\delta t} v(t)dt \\\\\n",
    "v(t + \\delta t) = v(t) + \\int_t^{t + \\delta t} a(t)dt$$\n",
    "\n",
    "| t   | 0    | 0.5  | 1    | 1.5   |\n",
    "|:---:| ---- | ---- | ---- | ----- |\n",
    "| a   | 1    | 0    | -0.5 | 1     |\n",
    "| v   | 0    | 0.5  | 0.25 | 0.75  |\n",
    "| x   | 0    | 0    | 0.25 | 0.375 |\n"
   ]
  },
  {
   "cell_type": "code",
   "execution_count": null,
   "metadata": {},
   "outputs": [],
   "source": []
  }
 ],
 "metadata": {
  "kernelspec": {
   "display_name": "Python 3",
   "language": "python",
   "name": "python3"
  },
  "language_info": {
   "codemirror_mode": {
    "name": "ipython",
    "version": 3
   },
   "file_extension": ".py",
   "mimetype": "text/x-python",
   "name": "python",
   "nbconvert_exporter": "python",
   "pygments_lexer": "ipython3",
   "version": "3.7.3"
  }
 },
 "nbformat": 4,
 "nbformat_minor": 2
}
