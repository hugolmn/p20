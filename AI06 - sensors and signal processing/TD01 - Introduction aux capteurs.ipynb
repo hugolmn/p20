{
 "cells": [
  {
   "cell_type": "markdown",
   "metadata": {},
   "source": [
    "# AI06 - TD01"
   ]
  },
  {
   "cell_type": "code",
   "execution_count": 66,
   "metadata": {},
   "outputs": [],
   "source": [
    "import pandas as pd\n",
    "import matplotlib.pyplot as plt\n",
    "import numpy as np"
   ]
  },
  {
   "cell_type": "markdown",
   "metadata": {},
   "source": [
    "# Exercice 1\n",
    "#### Question 1\n",
    "Exprimer $R$ en fonction de $P$ :\n",
    "\n",
    "$P = 2R - 1000 \\Leftrightarrow R = \\frac{R + 1000}{2}$"
   ]
  },
  {
   "cell_type": "markdown",
   "metadata": {},
   "source": [
    "#### Question 2\n",
    "\n",
    "Montrer qu'à l'équilibre on a $R$ = $R_0$.\n",
    "\n",
    "En déduire la valeur des résistances réglables $R_0$.\n",
    "\n",
    "$\\begin{align*}\n",
    "v & = V_A - V_B = E(\\frac{R}{R_0 + R} - \\frac{1}{2}) \\\\ \n",
    "& \\Leftrightarrow \\frac{R}{R_0-R} = \\frac{1}{2} \\\\\n",
    "& \\Leftrightarrow R = \\frac{R_0 - R}{2} \\\\\n",
    "& \\Leftrightarrow \\frac{R}{2} = \\frac{R_0}{2} \\\\\n",
    "& \\Leftrightarrow R = R_0 \\\\\n",
    "& \\Rightarrow R_0 = \\frac{1}{2}1013 + 500 = 1006.5\\Omega\n",
    "\\end{align*}$"
   ]
  },
  {
   "cell_type": "markdown",
   "metadata": {},
   "source": [
    "#### Question 3\n",
    "\n",
    "Exprimer $v$ en fonction de $P$ et tracer la courbe d'étalonnage.\n",
    "\n",
    "$\\begin{align*}\n",
    "v & = E(\\frac{\\frac{P}{2}+500}{R_0 + \\frac{P}{2} + 500} - \\frac{1}{2}) \\\\\n",
    "& = E(\\frac{P + 1000}{2R_0 + P + 1000} - \\frac{1}{2}) \\\\\n",
    "& = E(\\frac{P + 1000}{P_0 + P + 2000} - \\frac{1}{2}) \\\\\n",
    "& = 12(\\frac{P + 1000}{P + 3013} - \\frac{1}{2}) \\\\\n",
    "\\end{align*}$\n"
   ]
  },
  {
   "cell_type": "code",
   "execution_count": 67,
   "metadata": {},
   "outputs": [
    {
     "data": {
      "image/png": "[encoded data removed]",
      "text/plain": [
       "<Figure size 864x360 with 2 Axes>"
      ]
     },
     "metadata": {
      "needs_background": "light"
     },
     "output_type": "display_data"
    }
   ],
   "source": [
    "x = np.linspace(0, 10000, 1000)\n",
    "y = 12 * ((x + 1000) / (x + 3013) -1/2)\n",
    "\n",
    "plt.figure(figsize=(12,5))\n",
    "plt.subplot(1, 2, 1)\n",
    "\n",
    "plt.plot(x,y)\n",
    "plt.xlabel('Pression atmosphérique (mbar)')\n",
    "plt.ylabel('Tension en sortie du pont (V)')\n",
    "plt.subplot(1, 2, 2)\n",
    "\n",
    "plt.plot(x,y)\n",
    "plt.xlabel('Pression atmosphérique (mbar)')\n",
    "plt.ylabel('Tension en sortie du pont (V)')\n",
    "plt.xlim([300, 2000])\n",
    "plt.ylim([-1, 1])\n",
    "\n",
    "plt.show()"
   ]
  },
  {
   "cell_type": "markdown",
   "metadata": {},
   "source": [
    "#### Question 4\n",
    "\n",
    "Donner l'expression de $P$ en fonction de $v$.\n",
    "\n",
    "$\\begin{align*}\n",
    "v & = 12(\\frac{P + 1000}{P + 3013} - \\frac{1}{2}) \\\\\n",
    "\\frac{v}{12} + \\frac{1}{2} & = \\frac{P+1000}{P+3013} \\\\\n",
    "(\\frac{v}{12} + \\frac{1}{2}(P+3013) & = P + 1000 \\\\\n",
    "\\frac{v+6}{12}(P+3013) & = P + 1000 \\\\\n",
    "\\frac{1}{12}(v+6)(P+3013) & = P + 1000 \\\\\n",
    "(v+6)(P+3013) & = 12P + 12000 \\\\\n",
    "(v+6)P + 3013v + 18078 & = 12P + 12000 \\\\\n",
    "(v+6)P - 12P - 12000 & = -3013v - 18078 \\\\\n",
    "vP + 6P - 12P - 12000 & = -3013v - 18078 \\\\\n",
    "vP - 6P - 12000 & = -3013v - 18078 \\\\\n",
    "P(v-6) & = -3013v - 18078 + 12000 \\\\\n",
    "P & = \\frac{-3013v - 6078}{v-6} \\\\\n",
    "P & = \\frac{3013v + 6078}{6-v}\n",
    "\\end{align*}$\n"
   ]
  },
  {
   "cell_type": "markdown",
   "metadata": {},
   "source": [
    "#### Question 5\n",
    "\n",
    "\n",
    "On suppose que le capteur donne une tension de sortie $v$ entre $-1V$ et $+1V$. Calculer l'étendue de mesure du capteur.\n",
    "\n",
    "$v = 1 \\Rightarrow P = \\frac{3013 + 6078}{6-1} = 1818.2\\text{mbar}$\n",
    "\n",
    "\n",
    "$v = -1 \\Rightarrow P = \\frac{-3013 + 6078}{6-(-1)} = 437.9\\text{mbar}$"
   ]
  },
  {
   "cell_type": "markdown",
   "metadata": {},
   "source": [
    "#### Question 6\n",
    "\n",
    "En supposant naïvement un fonctionnement linéaire sur toute l'étendue de mesure, quelle erreur commet-on lors de la mesure de la pression atmosphérique moyenne ?\n",
    "\n",
    "$v(P) = 12(\\frac{P+1000}{P+3013} - \\frac{1}{2}) \\\\\n",
    "\\tilde{v}(P) = A*P + B \\Rightarrow \\tilde{v}(P_0) = \\mathbb{?}$\n",
    "\n",
    "$\\begin{cases}\n",
    "    -1 = A = 437.9 + B \\\\\n",
    "    +1 = A * 1818.2 + B \n",
    "\\end{cases}\\\\\n",
    "\\begin{align*}\n",
    "    \\Rightarrow 2 & = A(1818.2 - 437.9) \\\\\n",
    "    \\Rightarrow A & = \\frac{1818.2-437.9}{2} = 1.449*10^{-3} \\\\\n",
    "    \\Rightarrow B & = -1.634\n",
    "\\end{align*}$\n",
    "\n",
    "\n",
    "\n",
    "\n",
    "Si \n",
    "\n",
    "$\\begin{align*}\n",
    "    \\tilde{v}(P) = 0V  & \\Leftrightarrow AP + B = 0 \\\\\n",
    "                       & \\Leftrightarrow AP = -B \\\\\n",
    "                       & \\Leftrightarrow P = -\\frac{B}{A} = \\frac{1.634}{1.449*10^{-3}} = 1128 \\text{mbar}\n",
    "\\end{align*}$\n",
    "\n"
   ]
  },
  {
   "cell_type": "markdown",
   "metadata": {},
   "source": [
    "#### Question 7\n",
    "\n",
    "Quelle est la valeur maximale de l'erreur de mesure de pression ?\n",
    "\n",
    "$\\begin{align*}Err(v)& = \\tilde{P}(v) - P(v) \\\\\n",
    "                     & = \\frac{V-B}{A} - \\frac{3013v + 6078}{6-v}\n",
    "\\end{align*}$\n",
    "\n",
    "$\\begin{align*}\n",
    "Err'(v) & = \\frac{1}{A} - \\left[ (3013v + 6078)\\frac{1}{6-v}^2 + 3013\\frac{1}{6-v} \\right] \\\\\n",
    "Err'(v) & = \\frac{1}{A} - \\frac{3013v + 6078 + 3013(6-v)}{(6-v)^2}\n",
    "\\end{align*}$\n",
    "\n",
    "$\\begin{align*} \n",
    "Err'(v) = 0 \\Leftrightarrow \\frac{(6-v)^2}{A} & = 3013v + 6078 + 3013(6-v) \\\\\n",
    "                                              & = 6078 + 6*3013 \\\\\n",
    "                                      (6-v)^2 & = A * 24156 \\\\\n",
    "                                          6-v & = \\sqrt{A * 24156} \\\\                                          \n",
    "                                            v & = 6 \\pm \\sqrt{A * 24156} \\\\\n",
    "                                            v = 0.084V & \\text{ou} \\ v = 11.916V\n",
    "\\end{align*}$\n",
    "\n",
    "L'erreur est ainsi maximale pour V = 0.084V"
   ]
  },
  {
   "cell_type": "code",
   "execution_count": 80,
   "metadata": {},
   "outputs": [
    {
     "data": {
      "image/png": "[encoded data removed]",
      "text/plain": [
       "<Figure size 864x360 with 2 Axes>"
      ]
     },
     "metadata": {
      "needs_background": "light"
     },
     "output_type": "display_data"
    }
   ],
   "source": [
    "y_affine = x*1.449e-3 -1.634\n",
    "\n",
    "plt.figure(figsize=(12,5))\n",
    "plt.subplot(1, 2, 1)\n",
    "plt.plot(x, y, label='Tension réelle')\n",
    "plt.plot(x, y_affine, label='Approximation affine')\n",
    "plt.xlabel('Pression atmosphérique (mbar)')\n",
    "plt.ylabel('Tension en sortie du pont (V)')\n",
    "plt.legend()\n",
    "\n",
    "plt.subplot(1, 2, 2)\n",
    "plt.plot(x, y, label='Tension réelle')\n",
    "plt.plot(x, y_affine, label='Approximation affine')\n",
    "plt.xlabel('Pression atmosphérique (mbar)')\n",
    "plt.ylabel('Tension en sortie du pont (V)')\n",
    "plt.xlim([300, 2000])\n",
    "plt.ylim([-1, 1])\n",
    "plt.legend()\n",
    "plt.show()"
   ]
  },
  {
   "cell_type": "markdown",
   "metadata": {},
   "source": [
    "# Exercice 2"
   ]
  },
  {
   "cell_type": "code",
   "execution_count": 184,
   "metadata": {},
   "outputs": [
    {
     "data": {
      "text/html": [
       "<div>\n",
       "<style scoped>\n",
       "    .dataframe tbody tr th:only-of-type {\n",
       "        vertical-align: middle;\n",
       "    }\n",
       "\n",
       "    .dataframe tbody tr th {\n",
       "        vertical-align: top;\n",
       "    }\n",
       "\n",
       "    .dataframe thead th {\n",
       "        text-align: right;\n",
       "    }\n",
       "</style>\n",
       "<table border=\"1\" class=\"dataframe\">\n",
       "  <thead>\n",
       "    <tr style=\"text-align: right;\">\n",
       "      <th>Entrées E</th>\n",
       "      <th>0</th>\n",
       "      <th>1</th>\n",
       "      <th>2</th>\n",
       "      <th>3</th>\n",
       "      <th>4</th>\n",
       "      <th>5</th>\n",
       "      <th>6</th>\n",
       "      <th>7</th>\n",
       "    </tr>\n",
       "  </thead>\n",
       "  <tbody>\n",
       "    <tr>\n",
       "      <th>Observations</th>\n",
       "      <td>0.014</td>\n",
       "      <td>1.241000</td>\n",
       "      <td>2.487000</td>\n",
       "      <td>3.767000</td>\n",
       "      <td>5.015000</td>\n",
       "      <td>6.245000</td>\n",
       "      <td>7.508000</td>\n",
       "      <td>8.734</td>\n",
       "    </tr>\n",
       "    <tr>\n",
       "      <th>Théorie</th>\n",
       "      <td>0.000</td>\n",
       "      <td>1.428571</td>\n",
       "      <td>2.857143</td>\n",
       "      <td>4.285714</td>\n",
       "      <td>5.714286</td>\n",
       "      <td>7.142857</td>\n",
       "      <td>8.571429</td>\n",
       "      <td>10.000</td>\n",
       "    </tr>\n",
       "  </tbody>\n",
       "</table>\n",
       "</div>"
      ],
      "text/plain": [
       "Entrées E         0         1         2         3         4         5  \\\n",
       "Observations  0.014  1.241000  2.487000  3.767000  5.015000  6.245000   \n",
       "Théorie       0.000  1.428571  2.857143  4.285714  5.714286  7.142857   \n",
       "\n",
       "Entrées E            6       7  \n",
       "Observations  7.508000   8.734  \n",
       "Théorie       8.571429  10.000  "
      ]
     },
     "execution_count": 184,
     "metadata": {},
     "output_type": "execute_result"
    }
   ],
   "source": [
    "df = pd.DataFrame({\n",
    "    'Entrées E': np.arange(0, 8, 1),\n",
    "    'Observations': [0.014, 1.241, 2.487, 3.767, 5.015, 6.245, 7.508, 8.734]\n",
    "}).set_index('Entrées E')\n",
    "\n",
    "df['Théorie'] = np.linspace(0, 10, num = df.shape[0])\n",
    "df.T"
   ]
  },
  {
   "cell_type": "code",
   "execution_count": 183,
   "metadata": {},
   "outputs": [
    {
     "data": {
      "text/html": [
       "<div>\n",
       "<style scoped>\n",
       "    .dataframe tbody tr th:only-of-type {\n",
       "        vertical-align: middle;\n",
       "    }\n",
       "\n",
       "    .dataframe tbody tr th {\n",
       "        vertical-align: top;\n",
       "    }\n",
       "\n",
       "    .dataframe thead th {\n",
       "        text-align: right;\n",
       "    }\n",
       "</style>\n",
       "<table border=\"1\" class=\"dataframe\">\n",
       "  <thead>\n",
       "    <tr style=\"text-align: right;\">\n",
       "      <th>Entrées E</th>\n",
       "      <th>0</th>\n",
       "      <th>1</th>\n",
       "      <th>2</th>\n",
       "      <th>3</th>\n",
       "      <th>4</th>\n",
       "      <th>5</th>\n",
       "      <th>6</th>\n",
       "      <th>7</th>\n",
       "    </tr>\n",
       "  </thead>\n",
       "  <tbody>\n",
       "    <tr>\n",
       "      <th>Observations</th>\n",
       "      <td>0.014</td>\n",
       "      <td>1.241000</td>\n",
       "      <td>2.487000</td>\n",
       "      <td>3.767000</td>\n",
       "      <td>5.015000</td>\n",
       "      <td>6.245000</td>\n",
       "      <td>7.508000</td>\n",
       "      <td>8.734</td>\n",
       "    </tr>\n",
       "    <tr>\n",
       "      <th>Théorie</th>\n",
       "      <td>0.000</td>\n",
       "      <td>1.428571</td>\n",
       "      <td>2.857143</td>\n",
       "      <td>4.285714</td>\n",
       "      <td>5.714286</td>\n",
       "      <td>7.142857</td>\n",
       "      <td>8.571429</td>\n",
       "      <td>10.000</td>\n",
       "    </tr>\n",
       "    <tr>\n",
       "      <th>Réglage 0</th>\n",
       "      <td>0.000</td>\n",
       "      <td>1.227000</td>\n",
       "      <td>2.473000</td>\n",
       "      <td>3.753000</td>\n",
       "      <td>5.001000</td>\n",
       "      <td>6.231000</td>\n",
       "      <td>7.494000</td>\n",
       "      <td>8.720</td>\n",
       "    </tr>\n",
       "    <tr>\n",
       "      <th>Réglage gain</th>\n",
       "      <td>0.000</td>\n",
       "      <td>1.407110</td>\n",
       "      <td>2.836009</td>\n",
       "      <td>4.303899</td>\n",
       "      <td>5.735092</td>\n",
       "      <td>7.145642</td>\n",
       "      <td>8.594037</td>\n",
       "      <td>10.000</td>\n",
       "    </tr>\n",
       "    <tr>\n",
       "      <th>Erreur</th>\n",
       "      <td>0.000</td>\n",
       "      <td>-0.021461</td>\n",
       "      <td>-0.021134</td>\n",
       "      <td>0.018185</td>\n",
       "      <td>0.020806</td>\n",
       "      <td>0.002785</td>\n",
       "      <td>0.022608</td>\n",
       "      <td>0.000</td>\n",
       "    </tr>\n",
       "  </tbody>\n",
       "</table>\n",
       "</div>"
      ],
      "text/plain": [
       "Entrées E         0         1         2         3         4         5  \\\n",
       "Observations  0.014  1.241000  2.487000  3.767000  5.015000  6.245000   \n",
       "Théorie       0.000  1.428571  2.857143  4.285714  5.714286  7.142857   \n",
       "Réglage 0     0.000  1.227000  2.473000  3.753000  5.001000  6.231000   \n",
       "Réglage gain  0.000  1.407110  2.836009  4.303899  5.735092  7.145642   \n",
       "Erreur        0.000 -0.021461 -0.021134  0.018185  0.020806  0.002785   \n",
       "\n",
       "Entrées E            6       7  \n",
       "Observations  7.508000   8.734  \n",
       "Théorie       8.571429  10.000  \n",
       "Réglage 0     7.494000   8.720  \n",
       "Réglage gain  8.594037  10.000  \n",
       "Erreur        0.022608   0.000  "
      ]
     },
     "execution_count": 183,
     "metadata": {},
     "output_type": "execute_result"
    }
   ],
   "source": [
    "df['Réglage 0'] = df['Observations'] - df.loc[0, 'Observations']\n",
    "df['Réglage gain'] = df['Réglage 0'] * 10 / df.loc[len(df)-1, 'Réglage 0']\n",
    "df['Erreur'] = df['Réglage gain'] - df['Théorie']\n",
    "df.T"
   ]
  }
 ],
 "metadata": {
  "kernelspec": {
   "display_name": "Python 3",
   "language": "python",
   "name": "python3"
  },
  "language_info": {
   "codemirror_mode": {
    "name": "ipython",
    "version": 3
   },
   "file_extension": ".py",
   "mimetype": "text/x-python",
   "name": "python",
   "nbconvert_exporter": "python",
   "pygments_lexer": "ipython3",
   "version": "3.7.3"
  }
 },
 "nbformat": 4,
 "nbformat_minor": 2
}
