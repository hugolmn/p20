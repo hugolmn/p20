{
 "cells": [
  {
   "cell_type": "markdown",
   "metadata": {},
   "source": [
    "# AI09 - Devoir 1 : Pont électrique et Monte Carlo"
   ]
  },
  {
   "cell_type": "code",
   "execution_count": 264,
   "metadata": {},
   "outputs": [],
   "source": [
    "import pandas as pdw\n",
    "import numpy as np\n",
    "import matplotlib.pyplot as plt\n",
    "import seaborn as sns"
   ]
  },
  {
   "cell_type": "markdown",
   "metadata": {},
   "source": [
    "1. Donner une simulation des états de cinq composants et en fonction de ces états déﬁnir l’état du pont (1 ou 0)."
   ]
  },
  {
   "cell_type": "code",
   "execution_count": 292,
   "metadata": {},
   "outputs": [],
   "source": [
    "# parameters for simulation\n",
    "p = .99\n",
    "q = 1-p\n",
    "n_simulations = 1000\n",
    "n_composants = 5"
   ]
  },
  {
   "cell_type": "code",
   "execution_count": 293,
   "metadata": {},
   "outputs": [],
   "source": [
    "# Generating data for n_composants and n_simulations with failure probability of 1-p\n",
    "df = pd.DataFrame(\n",
    "    data = np.where(np.random.random(size=(n_simulations, n_composants)) > q, 1, 0),\n",
    "    columns = [f'composant_{i+1}' for i in range(n_composants)])"
   ]
  },
  {
   "cell_type": "code",
   "execution_count": 294,
   "metadata": {},
   "outputs": [
    {
     "data": {
      "text/html": [
       "<div>\n",
       "<style scoped>\n",
       "    .dataframe tbody tr th:only-of-type {\n",
       "        vertical-align: middle;\n",
       "    }\n",
       "\n",
       "    .dataframe tbody tr th {\n",
       "        vertical-align: top;\n",
       "    }\n",
       "\n",
       "    .dataframe thead th {\n",
       "        text-align: right;\n",
       "    }\n",
       "</style>\n",
       "<table border=\"1\" class=\"dataframe\">\n",
       "  <thead>\n",
       "    <tr style=\"text-align: right;\">\n",
       "      <th></th>\n",
       "      <th>count</th>\n",
       "      <th>mean</th>\n",
       "      <th>std</th>\n",
       "      <th>min</th>\n",
       "      <th>25%</th>\n",
       "      <th>50%</th>\n",
       "      <th>75%</th>\n",
       "      <th>max</th>\n",
       "    </tr>\n",
       "  </thead>\n",
       "  <tbody>\n",
       "    <tr>\n",
       "      <th>composant_1</th>\n",
       "      <td>1000.0</td>\n",
       "      <td>0.992</td>\n",
       "      <td>0.089129</td>\n",
       "      <td>0.0</td>\n",
       "      <td>1.0</td>\n",
       "      <td>1.0</td>\n",
       "      <td>1.0</td>\n",
       "      <td>1.0</td>\n",
       "    </tr>\n",
       "    <tr>\n",
       "      <th>composant_2</th>\n",
       "      <td>1000.0</td>\n",
       "      <td>0.985</td>\n",
       "      <td>0.121613</td>\n",
       "      <td>0.0</td>\n",
       "      <td>1.0</td>\n",
       "      <td>1.0</td>\n",
       "      <td>1.0</td>\n",
       "      <td>1.0</td>\n",
       "    </tr>\n",
       "    <tr>\n",
       "      <th>composant_3</th>\n",
       "      <td>1000.0</td>\n",
       "      <td>0.993</td>\n",
       "      <td>0.083414</td>\n",
       "      <td>0.0</td>\n",
       "      <td>1.0</td>\n",
       "      <td>1.0</td>\n",
       "      <td>1.0</td>\n",
       "      <td>1.0</td>\n",
       "    </tr>\n",
       "    <tr>\n",
       "      <th>composant_4</th>\n",
       "      <td>1000.0</td>\n",
       "      <td>0.987</td>\n",
       "      <td>0.113331</td>\n",
       "      <td>0.0</td>\n",
       "      <td>1.0</td>\n",
       "      <td>1.0</td>\n",
       "      <td>1.0</td>\n",
       "      <td>1.0</td>\n",
       "    </tr>\n",
       "    <tr>\n",
       "      <th>composant_5</th>\n",
       "      <td>1000.0</td>\n",
       "      <td>0.989</td>\n",
       "      <td>0.104355</td>\n",
       "      <td>0.0</td>\n",
       "      <td>1.0</td>\n",
       "      <td>1.0</td>\n",
       "      <td>1.0</td>\n",
       "      <td>1.0</td>\n",
       "    </tr>\n",
       "  </tbody>\n",
       "</table>\n",
       "</div>"
      ],
      "text/plain": [
       "              count   mean       std  min  25%  50%  75%  max\n",
       "composant_1  1000.0  0.992  0.089129  0.0  1.0  1.0  1.0  1.0\n",
       "composant_2  1000.0  0.985  0.121613  0.0  1.0  1.0  1.0  1.0\n",
       "composant_3  1000.0  0.993  0.083414  0.0  1.0  1.0  1.0  1.0\n",
       "composant_4  1000.0  0.987  0.113331  0.0  1.0  1.0  1.0  1.0\n",
       "composant_5  1000.0  0.989  0.104355  0.0  1.0  1.0  1.0  1.0"
      ]
     },
     "execution_count": 294,
     "metadata": {},
     "output_type": "execute_result"
    }
   ],
   "source": [
    "# statistics summary of generated data\n",
    "df.describe().T"
   ]
  },
  {
   "cell_type": "code",
   "execution_count": 295,
   "metadata": {},
   "outputs": [
    {
     "data": {
      "image/png": "[encoded data removed]",
      "text/plain": [
       "<Figure size 432x288 with 1 Axes>"
      ]
     },
     "metadata": {
      "needs_background": "light"
     },
     "output_type": "display_data"
    }
   ],
   "source": [
    "# Visualization of generated data\n",
    "df.apply(pd.value_counts).plot.bar()\n",
    "plt.xlabel('Etat de fonctionnement')\n",
    "plt.ylabel('Nombre de simulations (log scale)')\n",
    "plt.yscale('log')"
   ]
  },
  {
   "cell_type": "markdown",
   "metadata": {},
   "source": [
    "2. Estimer la probabilité de bon fonctionnement du pont, se basant sur 1000 simulations.\n",
    "\n",
    "Le pont fonctionne si tous les composants d'au moins un des chemins suivants fonctionnent:\n",
    "- 1-4\n",
    "- 2-5\n",
    "- 1-3-5\n",
    "- 2-3-4\n",
    "\n",
    "On utilise les données générées à la question 1 pour simuler l'état de fonctionnement du pont"
   ]
  },
  {
   "cell_type": "code",
   "execution_count": 296,
   "metadata": {},
   "outputs": [],
   "source": [
    "def is_bridge_working(df):\n",
    "    \"\"\"\n",
    "    Returns 1 if the bridge is working according to problem schema.\n",
    "    \"\"\"\n",
    "    if df.composant_1 & df.composant_4:\n",
    "        return 1\n",
    "    elif df.composant_2 & df.composant_5:\n",
    "        return 1\n",
    "    elif df.composant_1 & df.composant_3 & df.composant_5:\n",
    "        return 1\n",
    "    elif df.composant_2 & df.composant_3 & df.composant_4:\n",
    "        return 1\n",
    "    else:\n",
    "        return 0"
   ]
  },
  {
   "cell_type": "code",
   "execution_count": 297,
   "metadata": {},
   "outputs": [],
   "source": [
    "# bridge column takes value 1 if working, else 0.\n",
    "df['bridge'] = df.apply(is_bridge_working, axis=1)"
   ]
  },
  {
   "cell_type": "code",
   "execution_count": 298,
   "metadata": {},
   "outputs": [
    {
     "data": {
      "text/plain": [
       "1    1000\n",
       "Name: bridge, dtype: int64"
      ]
     },
     "execution_count": 298,
     "metadata": {},
     "output_type": "execute_result"
    }
   ],
   "source": [
    "# counting values in bridge column\n",
    "df.bridge.value_counts()"
   ]
  },
  {
   "cell_type": "markdown",
   "metadata": {},
   "source": [
    "On constate qu'avec 1000 simulations, aucune n'a conduit a un état de panne du pont."
   ]
  },
  {
   "cell_type": "markdown",
   "metadata": {},
   "source": [
    "3. Si l’erreur admise pour ce résultat est $ \\epsilon = 10^{-2}$ et $\\theta = 5x10^{-2}$, alors donner le nombre de tirages nécessaires pour obtenir cette précision. Exécutez la simulation"
   ]
  },
  {
   "cell_type": "markdown",
   "metadata": {},
   "source": [
    "Afin de calculer le nombre de tirages nécessaires, il faut d'abord estimer et borner la variance"
   ]
  },
  {
   "cell_type": "code",
   "execution_count": 299,
   "metadata": {},
   "outputs": [
    {
     "data": {
      "text/plain": [
       "0.0"
      ]
     },
     "execution_count": 299,
     "metadata": {},
     "output_type": "execute_result"
    }
   ],
   "source": [
    "df.bridge.var()"
   ]
  },
  {
   "cell_type": "markdown",
   "metadata": {},
   "source": [
    "La variance empirique actuellement calculée étant nulle, on réalise un nouvelle simulation avec n plus grand : 100 000"
   ]
  },
  {
   "cell_type": "code",
   "execution_count": 301,
   "metadata": {},
   "outputs": [
    {
     "data": {
      "text/plain": [
       "1    99977\n",
       "0       23\n",
       "Name: bridge, dtype: int64"
      ]
     },
     "execution_count": 301,
     "metadata": {},
     "output_type": "execute_result"
    }
   ],
   "source": [
    "# parameters for simulation\n",
    "p = .99\n",
    "q = 1 - p\n",
    "n_simulations = 100000\n",
    "n_composants = 5\n",
    "\n",
    "# Generating data for n_composants and n_simulations with failure probability of 1-p\n",
    "df = pd.DataFrame(\n",
    "    data = np.where(np.random.random(size=(n_simulations, n_composants)) > q, 1, 0),\n",
    "    columns = [f'composant_{i+1}' for i in range(n_composants)])\n",
    "\n",
    "# bridge column takes value 1 if working, else 0.\n",
    "df['bridge'] = df.apply(is_bridge_working, axis=1)\n",
    "\n",
    "# counting values in bridge column\n",
    "df.bridge.value_counts()"
   ]
  },
  {
   "cell_type": "code",
   "execution_count": 302,
   "metadata": {},
   "outputs": [
    {
     "name": "stdout",
     "output_type": "stream",
     "text": [
      "Variance = 2.2995e-04\n"
     ]
    }
   ],
   "source": [
    "variance = df.bridge.var()\n",
    "print(f'Variance = {variance:.4e}')"
   ]
  },
  {
   "cell_type": "markdown",
   "metadata": {},
   "source": [
    "On peut borner $Var(h(X)) \\leq C$ avec $C = 1.10^{-3}$\n",
    "\n",
    "On a ainsi : \n",
    "$$n \\geq \\frac{C}{\\theta\\epsilon^2} \\\\\n",
    "n \\geq \\frac{10^{-3}}{(10^{-2})^2*5*10^{-2}} \\\\\n",
    "n \\geq 200\n",
    "$$"
   ]
  },
  {
   "cell_type": "code",
   "execution_count": 304,
   "metadata": {},
   "outputs": [
    {
     "data": {
      "text/plain": [
       "1    200\n",
       "Name: bridge, dtype: int64"
      ]
     },
     "execution_count": 304,
     "metadata": {},
     "output_type": "execute_result"
    }
   ],
   "source": [
    "# parameters for simulation\n",
    "p = .99\n",
    "q = 1 - p\n",
    "n_simulations = 200\n",
    "n_composants = 5\n",
    "\n",
    "# Generating data for n_composants and n_simulations with failure probability of p\n",
    "df = pd.DataFrame(\n",
    "    data = np.where(np.random.random(size=(n_simulations, n_composants)) > q, 1, 0),\n",
    "    columns = [f'composant_{i+1}' for i in range(n_composants)])\n",
    "\n",
    "# bridge column takes value 1 if working, else 0.\n",
    "df['bridge'] = df.apply(is_bridge_working, axis=1)\n",
    "\n",
    "# counting values in bridge column\n",
    "df.bridge.value_counts()"
   ]
  },
  {
   "cell_type": "markdown",
   "metadata": {},
   "source": [
    "4. Maintenant nous changeons de loi, et au lieu de la valeur précédente $q$, nous prenons $q\\prime = \\frac{q}{pe^t+q}$, avec une constante t, à ﬁxer dans l’intervalle $[2\\ln \\frac{1+\\sqrt{1−4pq}}{2p} ,+\\infty[$. Alors expliquez pourquoi ce choix est meilleur. Estimer de nouveau la probabilité de bon fonctionnement du pont avec cette nouvelle loi"
   ]
  },
  {
   "cell_type": "code",
   "execution_count": 317,
   "metadata": {},
   "outputs": [],
   "source": [
    "# parameters for simulation\n",
    "p = .99\n",
    "q = 1 - p"
   ]
  },
  {
   "cell_type": "code",
   "execution_count": 363,
   "metadata": {},
   "outputs": [],
   "source": [
    "# Generating q' for several values of t\n",
    "t_min = 2*np.log((2 * np.sqrt(1 - 4*q*p)) / (2*p))\n",
    "t = np.linspace(t_min, 10, 100)\n",
    "q_prime = q / (p * np.exp(t) + q)"
   ]
  },
  {
   "cell_type": "code",
   "execution_count": 364,
   "metadata": {},
   "outputs": [
    {
     "data": {
      "text/plain": [
       "Text(0, 0.5, \"q'\")"
      ]
     },
     "execution_count": 364,
     "metadata": {},
     "output_type": "execute_result"
    },
    {
     "data": {
      "image/png": "[encoded data removed]",
      "text/plain": [
       "<Figure size 432x288 with 1 Axes>"
      ]
     },
     "metadata": {
      "needs_background": "light"
     },
     "output_type": "display_data"
    }
   ],
   "source": [
    "# Visualization of q' depending on t\n",
    "plt.plot(t, q_prime)\n",
    "plt.xlabel('t')\n",
    "plt.ylabel('q\\'')"
   ]
  },
  {
   "cell_type": "code",
   "execution_count": 376,
   "metadata": {},
   "outputs": [
    {
     "name": "stdout",
     "output_type": "stream",
     "text": [
      "0.010203029990724526\n"
     ]
    }
   ],
   "source": [
    "print(q / (p * np.exp(t) + q))"
   ]
  },
  {
   "cell_type": "code",
   "execution_count": null,
   "metadata": {},
   "outputs": [],
   "source": []
  },
  {
   "cell_type": "code",
   "execution_count": 367,
   "metadata": {},
   "outputs": [],
   "source": [
    "# parameters for simulation\n",
    "p = .99\n",
    "q = 1 - p\n",
    "t = 2*np.log((2 * np.sqrt(1 - 4*q*p)) / (2*p))\n",
    "q_prime = q / (p * np.exp(t) + q)\n",
    "n_simulations = 100000\n",
    "n_composants = 5"
   ]
  },
  {
   "cell_type": "code",
   "execution_count": 368,
   "metadata": {},
   "outputs": [
    {
     "data": {
      "text/plain": [
       "1    99978\n",
       "0       22\n",
       "Name: bridge, dtype: int64"
      ]
     },
     "execution_count": 368,
     "metadata": {},
     "output_type": "execute_result"
    }
   ],
   "source": [
    "# Generating data for n_composants and n_simulations with failure probability of p\n",
    "df = pd.DataFrame(\n",
    "    data = np.where(np.random.random(size=(n_simulations, n_composants)) > q_prime, 1, 0),\n",
    "    columns = [f'composant_{i+1}' for i in range(n_composants)])\n",
    "\n",
    "# bridge column takes value 1 if working, else 0.\n",
    "df['bridge'] = df.apply(is_bridge_working, axis=1)\n",
    "\n",
    "# counting values in bridge column\n",
    "df.bridge.value_counts()"
   ]
  }
 ],
 "metadata": {
  "kernelspec": {
   "display_name": "Python 3",
   "language": "python",
   "name": "python3"
  },
  "language_info": {
   "codemirror_mode": {
    "name": "ipython",
    "version": 3
   },
   "file_extension": ".py",
   "mimetype": "text/x-python",
   "name": "python",
   "nbconvert_exporter": "python",
   "pygments_lexer": "ipython3",
   "version": "3.7.3"
  }
 },
 "nbformat": 4,
 "nbformat_minor": 4
}
