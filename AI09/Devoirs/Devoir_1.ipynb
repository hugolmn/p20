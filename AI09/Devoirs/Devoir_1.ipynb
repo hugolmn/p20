{
 "cells": [
  {
   "cell_type": "markdown",
   "metadata": {},
   "source": [
    "# AI09 - Devoir 1 : Pont électrique et Monte Carlo\n",
    "### Hugo Le Moine"
   ]
  },
  {
   "cell_type": "code",
   "execution_count": 58,
   "metadata": {},
   "outputs": [],
   "source": [
    "import pandas as pd\n",
    "import numpy as np\n",
    "import matplotlib.pyplot as plt\n",
    "import seaborn as sns"
   ]
  },
  {
   "cell_type": "markdown",
   "metadata": {},
   "source": [
    "## 1. Donner une simulation des états de cinq composants et en fonction de ces états déﬁnir l’état du pont (1 ou 0)."
   ]
  },
  {
   "cell_type": "code",
   "execution_count": 59,
   "metadata": {},
   "outputs": [],
   "source": [
    "# parameters for simulation\n",
    "p = .99\n",
    "q = 1 - p\n",
    "n_simulations = 1000\n",
    "n_composants = 5"
   ]
  },
  {
   "cell_type": "code",
   "execution_count": 60,
   "metadata": {},
   "outputs": [],
   "source": [
    "# Generating data for n_composants and n_simulations with failure probability of q\n",
    "df = pd.DataFrame(\n",
    "    data = np.where(np.random.random(size=(n_simulations, n_composants)) > q, 1, 0),\n",
    "    columns = [f'composant_{i+1}' for i in range(n_composants)])"
   ]
  },
  {
   "cell_type": "code",
   "execution_count": 61,
   "metadata": {},
   "outputs": [
    {
     "data": {
      "text/html": [
       "<div>\n",
       "<style scoped>\n",
       "    .dataframe tbody tr th:only-of-type {\n",
       "        vertical-align: middle;\n",
       "    }\n",
       "\n",
       "    .dataframe tbody tr th {\n",
       "        vertical-align: top;\n",
       "    }\n",
       "\n",
       "    .dataframe thead th {\n",
       "        text-align: right;\n",
       "    }\n",
       "</style>\n",
       "<table border=\"1\" class=\"dataframe\">\n",
       "  <thead>\n",
       "    <tr style=\"text-align: right;\">\n",
       "      <th></th>\n",
       "      <th>count</th>\n",
       "      <th>mean</th>\n",
       "      <th>std</th>\n",
       "      <th>min</th>\n",
       "      <th>25%</th>\n",
       "      <th>50%</th>\n",
       "      <th>75%</th>\n",
       "      <th>max</th>\n",
       "    </tr>\n",
       "  </thead>\n",
       "  <tbody>\n",
       "    <tr>\n",
       "      <th>composant_1</th>\n",
       "      <td>1000.0</td>\n",
       "      <td>0.985</td>\n",
       "      <td>0.121613</td>\n",
       "      <td>0.0</td>\n",
       "      <td>1.0</td>\n",
       "      <td>1.0</td>\n",
       "      <td>1.0</td>\n",
       "      <td>1.0</td>\n",
       "    </tr>\n",
       "    <tr>\n",
       "      <th>composant_2</th>\n",
       "      <td>1000.0</td>\n",
       "      <td>0.993</td>\n",
       "      <td>0.083414</td>\n",
       "      <td>0.0</td>\n",
       "      <td>1.0</td>\n",
       "      <td>1.0</td>\n",
       "      <td>1.0</td>\n",
       "      <td>1.0</td>\n",
       "    </tr>\n",
       "    <tr>\n",
       "      <th>composant_3</th>\n",
       "      <td>1000.0</td>\n",
       "      <td>0.991</td>\n",
       "      <td>0.094488</td>\n",
       "      <td>0.0</td>\n",
       "      <td>1.0</td>\n",
       "      <td>1.0</td>\n",
       "      <td>1.0</td>\n",
       "      <td>1.0</td>\n",
       "    </tr>\n",
       "    <tr>\n",
       "      <th>composant_4</th>\n",
       "      <td>1000.0</td>\n",
       "      <td>0.989</td>\n",
       "      <td>0.104355</td>\n",
       "      <td>0.0</td>\n",
       "      <td>1.0</td>\n",
       "      <td>1.0</td>\n",
       "      <td>1.0</td>\n",
       "      <td>1.0</td>\n",
       "    </tr>\n",
       "    <tr>\n",
       "      <th>composant_5</th>\n",
       "      <td>1000.0</td>\n",
       "      <td>0.993</td>\n",
       "      <td>0.083414</td>\n",
       "      <td>0.0</td>\n",
       "      <td>1.0</td>\n",
       "      <td>1.0</td>\n",
       "      <td>1.0</td>\n",
       "      <td>1.0</td>\n",
       "    </tr>\n",
       "  </tbody>\n",
       "</table>\n",
       "</div>"
      ],
      "text/plain": [
       "              count   mean       std  min  25%  50%  75%  max\n",
       "composant_1  1000.0  0.985  0.121613  0.0  1.0  1.0  1.0  1.0\n",
       "composant_2  1000.0  0.993  0.083414  0.0  1.0  1.0  1.0  1.0\n",
       "composant_3  1000.0  0.991  0.094488  0.0  1.0  1.0  1.0  1.0\n",
       "composant_4  1000.0  0.989  0.104355  0.0  1.0  1.0  1.0  1.0\n",
       "composant_5  1000.0  0.993  0.083414  0.0  1.0  1.0  1.0  1.0"
      ]
     },
     "execution_count": 61,
     "metadata": {},
     "output_type": "execute_result"
    }
   ],
   "source": [
    "# statistics summary of generated data\n",
    "df.describe().T"
   ]
  },
  {
   "cell_type": "code",
   "execution_count": 62,
   "metadata": {},
   "outputs": [
    {
     "data": {
      "text/html": [
       "<div>\n",
       "<style scoped>\n",
       "    .dataframe tbody tr th:only-of-type {\n",
       "        vertical-align: middle;\n",
       "    }\n",
       "\n",
       "    .dataframe tbody tr th {\n",
       "        vertical-align: top;\n",
       "    }\n",
       "\n",
       "    .dataframe thead th {\n",
       "        text-align: right;\n",
       "    }\n",
       "</style>\n",
       "<table border=\"1\" class=\"dataframe\">\n",
       "  <thead>\n",
       "    <tr style=\"text-align: right;\">\n",
       "      <th></th>\n",
       "      <th>composant_1</th>\n",
       "      <th>composant_2</th>\n",
       "      <th>composant_3</th>\n",
       "      <th>composant_4</th>\n",
       "      <th>composant_5</th>\n",
       "    </tr>\n",
       "  </thead>\n",
       "  <tbody>\n",
       "    <tr>\n",
       "      <th>1</th>\n",
       "      <td>985</td>\n",
       "      <td>993</td>\n",
       "      <td>991</td>\n",
       "      <td>989</td>\n",
       "      <td>993</td>\n",
       "    </tr>\n",
       "    <tr>\n",
       "      <th>0</th>\n",
       "      <td>15</td>\n",
       "      <td>7</td>\n",
       "      <td>9</td>\n",
       "      <td>11</td>\n",
       "      <td>7</td>\n",
       "    </tr>\n",
       "  </tbody>\n",
       "</table>\n",
       "</div>"
      ],
      "text/plain": [
       "   composant_1  composant_2  composant_3  composant_4  composant_5\n",
       "1          985          993          991          989          993\n",
       "0           15            7            9           11            7"
      ]
     },
     "execution_count": 62,
     "metadata": {},
     "output_type": "execute_result"
    }
   ],
   "source": [
    "df.apply(pd.value_counts)"
   ]
  },
  {
   "cell_type": "code",
   "execution_count": 63,
   "metadata": {},
   "outputs": [
    {
     "data": {
      "image/png": "[encoded data removed]",
      "text/plain": [
       "<Figure size 432x288 with 1 Axes>"
      ]
     },
     "metadata": {
      "needs_background": "light"
     },
     "output_type": "display_data"
    }
   ],
   "source": [
    "# Visualization of generated data\n",
    "df.apply(pd.value_counts).plot.bar()\n",
    "plt.xlabel('Etat de fonctionnement')\n",
    "plt.ylabel('Nombre de simulations (log scale)')\n",
    "plt.yscale('log')"
   ]
  },
  {
   "cell_type": "markdown",
   "metadata": {},
   "source": [
    "## 2. Estimer la probabilité de bon fonctionnement du pont, se basant sur 1000 simulations.\n",
    "\n",
    "Le pont fonctionne si tous les composants d'au moins un des chemins suivants fonctionnent:\n",
    "- 1-4\n",
    "- 2-5\n",
    "- 1-3-5\n",
    "- 2-3-4\n",
    "\n",
    "On utilise les données générées à la question 1 pour simuler l'état de fonctionnement du pont"
   ]
  },
  {
   "cell_type": "code",
   "execution_count": 64,
   "metadata": {},
   "outputs": [],
   "source": [
    "def is_bridge_working(df):\n",
    "    \"\"\"\n",
    "    Returns 1 if the bridge is working according to problem schema.\n",
    "    \"\"\"\n",
    "    if df.composant_1 & df.composant_4:\n",
    "        return 1\n",
    "    elif df.composant_2 & df.composant_5:\n",
    "        return 1\n",
    "    elif df.composant_1 & df.composant_3 & df.composant_5:\n",
    "        return 1\n",
    "    elif df.composant_2 & df.composant_3 & df.composant_4:\n",
    "        return 1\n",
    "    else:\n",
    "        return 0"
   ]
  },
  {
   "cell_type": "code",
   "execution_count": 65,
   "metadata": {},
   "outputs": [],
   "source": [
    "# bridge column takes value 1 if working, else 0.\n",
    "df['bridge'] = df.apply(is_bridge_working, axis=1)"
   ]
  },
  {
   "cell_type": "code",
   "execution_count": 66,
   "metadata": {},
   "outputs": [
    {
     "data": {
      "text/plain": [
       "1    1000\n",
       "Name: bridge, dtype: int64"
      ]
     },
     "execution_count": 66,
     "metadata": {},
     "output_type": "execute_result"
    }
   ],
   "source": [
    "# counting values in bridge column\n",
    "df.bridge.value_counts()"
   ]
  },
  {
   "cell_type": "markdown",
   "metadata": {},
   "source": [
    "On constate qu'avec 1000 simulations, aucune n'a conduit a un état de panne du pont."
   ]
  },
  {
   "cell_type": "markdown",
   "metadata": {},
   "source": [
    "## 3. Si l’erreur admise pour ce résultat est $ \\epsilon = 10^{-2}$ et $\\theta = 5.10^{-2}$, alors donner le nombre de tirages nécessaires pour obtenir cette précision. Exécutez la simulation"
   ]
  },
  {
   "cell_type": "markdown",
   "metadata": {},
   "source": [
    "Afin de calculer le nombre de tirages nécessaires, il faut d'abord estimer et borner la variance"
   ]
  },
  {
   "cell_type": "code",
   "execution_count": 67,
   "metadata": {},
   "outputs": [
    {
     "data": {
      "text/plain": [
       "0.0"
      ]
     },
     "execution_count": 67,
     "metadata": {},
     "output_type": "execute_result"
    }
   ],
   "source": [
    "df.bridge.var()"
   ]
  },
  {
   "cell_type": "markdown",
   "metadata": {},
   "source": [
    "La variance empirique actuellement calculée étant nulle, on réalise un nouvelle simulation avec n plus grand : 100 000"
   ]
  },
  {
   "cell_type": "code",
   "execution_count": 72,
   "metadata": {},
   "outputs": [
    {
     "data": {
      "text/plain": [
       "1    99980\n",
       "0       20\n",
       "Name: bridge, dtype: int64"
      ]
     },
     "execution_count": 72,
     "metadata": {},
     "output_type": "execute_result"
    }
   ],
   "source": [
    "# parameters for simulation\n",
    "p = .99\n",
    "q = 1 - p\n",
    "n_simulations = 100000\n",
    "n_composants = 5\n",
    "\n",
    "# Generating data for n_composants and n_simulations with failure probability of q\n",
    "df = pd.DataFrame(\n",
    "    data = np.where(np.random.random(size=(n_simulations, n_composants)) > q, 1, 0),\n",
    "    columns = [f'composant_{i+1}' for i in range(n_composants)])\n",
    "\n",
    "# bridge column takes value 1 if working, else 0.\n",
    "df['bridge'] = df.apply(is_bridge_working, axis=1)\n",
    "\n",
    "# counting values in bridge column\n",
    "df.bridge.value_counts()"
   ]
  },
  {
   "cell_type": "code",
   "execution_count": 73,
   "metadata": {},
   "outputs": [
    {
     "name": "stdout",
     "output_type": "stream",
     "text": [
      "Variance = 2.000e-04\n"
     ]
    }
   ],
   "source": [
    "variance = df.bridge.var()\n",
    "print(f'Variance = {variance:.3e}')"
   ]
  },
  {
   "cell_type": "markdown",
   "metadata": {},
   "source": [
    "On peut borner $Var(h(X)) \\leq C$ avec $C = 5.10^{-4}$\n",
    "\n",
    "On a ainsi : \n",
    "$$n \\geq \\frac{C}{\\theta\\epsilon^2} \\\\\n",
    "n \\geq \\frac{5.10^{-4}}{(10^{-2})^2*5*10^{-2}} \\\\\n",
    "n \\geq 100\n",
    "$$"
   ]
  },
  {
   "cell_type": "code",
   "execution_count": 74,
   "metadata": {},
   "outputs": [
    {
     "data": {
      "text/plain": [
       "1    100\n",
       "Name: bridge, dtype: int64"
      ]
     },
     "execution_count": 74,
     "metadata": {},
     "output_type": "execute_result"
    }
   ],
   "source": [
    "# parameters for simulation\n",
    "p = .99\n",
    "q = 1 - p\n",
    "n_simulations = 100\n",
    "n_composants = 5\n",
    "\n",
    "# Generating data for n_composants and n_simulations with failure probability of p\n",
    "df = pd.DataFrame(\n",
    "    data = np.where(np.random.random(size=(n_simulations, n_composants)) > q, 1, 0),\n",
    "    columns = [f'composant_{i+1}' for i in range(n_composants)])\n",
    "\n",
    "# bridge column takes value 1 if working, else 0.\n",
    "df['bridge'] = df.apply(is_bridge_working, axis=1)\n",
    "\n",
    "# counting values in bridge column\n",
    "df.bridge.value_counts()"
   ]
  },
  {
   "cell_type": "markdown",
   "metadata": {},
   "source": [
    "On constate à nouveau qu'aucune simulation ne conduit à un état de panne du pont. Néanmoins, cela correspond à la préccision recherchée dans l'énoncé."
   ]
  },
  {
   "cell_type": "markdown",
   "metadata": {},
   "source": [
    "## 4. Maintenant nous changeons de loi, et au lieu de la valeur précédente $q$, nous prenons $q\\prime = \\frac{q}{pe^t+q}$, avec une constante t, à ﬁxer dans l’intervalle $[2\\ln \\frac{1+\\sqrt{1−4pq}}{2p} ,+\\infty[$. Alors expliquez pourquoi ce choix est meilleur. Estimer de nouveau la probabilité de bon fonctionnement du pont avec cette nouvelle loi"
   ]
  },
  {
   "cell_type": "markdown",
   "metadata": {},
   "source": [
    "Afin de comprendre l'impact du paramètre t, affichons d'abord l'évolution de q' en fonction de t."
   ]
  },
  {
   "cell_type": "code",
   "execution_count": 75,
   "metadata": {},
   "outputs": [],
   "source": [
    "# parameters for simulation\n",
    "p = .99\n",
    "q = 1 - p"
   ]
  },
  {
   "cell_type": "code",
   "execution_count": 76,
   "metadata": {},
   "outputs": [],
   "source": [
    "# Generating q' for several values of t\n",
    "t_min = 2*np.log((2 * np.sqrt(1 - 4*q*p)) / (2*p))\n",
    "t = np.linspace(t_min, 10, 100)\n",
    "q_prime = q / (p * np.exp(t) + q)"
   ]
  },
  {
   "cell_type": "code",
   "execution_count": 77,
   "metadata": {},
   "outputs": [
    {
     "data": {
      "text/plain": [
       "Text(0, 0.5, \"q'\")"
      ]
     },
     "execution_count": 77,
     "metadata": {},
     "output_type": "execute_result"
    },
    {
     "data": {
      "image/png": "[encoded data removed]",
      "text/plain": [
       "<Figure size 432x288 with 1 Axes>"
      ]
     },
     "metadata": {
      "needs_background": "light"
     },
     "output_type": "display_data"
    }
   ],
   "source": [
    "# Visualization of q' depending on t\n",
    "plt.plot(t, q_prime)\n",
    "plt.xlabel('t')\n",
    "plt.ylabel('q\\'')"
   ]
  },
  {
   "cell_type": "markdown",
   "metadata": {},
   "source": [
    "On constate que plus t est grand, plus q' est petit, et donc qu'un état de panne du système est moins probable.\n",
    "Pour la suite, choisissons arbitrairement $t=2$ et effectuons 100 000 simulations"
   ]
  },
  {
   "cell_type": "code",
   "execution_count": 85,
   "metadata": {},
   "outputs": [],
   "source": [
    "# parameters for simulation\n",
    "p = .99\n",
    "q = 1 - p\n",
    "t = 2\n",
    "q_prime = q / (p * np.exp(t) + q)\n",
    "n_simulations = 100000\n",
    "n_composants = 5"
   ]
  },
  {
   "cell_type": "code",
   "execution_count": 86,
   "metadata": {},
   "outputs": [
    {
     "data": {
      "text/plain": [
       "1    100000\n",
       "Name: bridge, dtype: int64"
      ]
     },
     "execution_count": 86,
     "metadata": {},
     "output_type": "execute_result"
    }
   ],
   "source": [
    "# Generating data for n_composants and n_simulations with failure probability of p\n",
    "df = pd.DataFrame(\n",
    "    data = np.where(np.random.random(size=(n_simulations, n_composants)) > q_prime, 1, 0),\n",
    "    columns = [f'composant_{i+1}' for i in range(n_composants)])\n",
    "\n",
    "# bridge column takes value 1 if working, else 0.\n",
    "df['bridge'] = df.apply(is_bridge_working, axis=1)\n",
    "\n",
    "# counting values in bridge column\n",
    "df.bridge.value_counts()"
   ]
  },
  {
   "cell_type": "markdown",
   "metadata": {},
   "source": [
    "Aucune des 100 000 simulations n'a conduit à un état de panne. La variance reste donc de 0. Testons maintenant avec 1 million de simulations."
   ]
  },
  {
   "cell_type": "code",
   "execution_count": 87,
   "metadata": {},
   "outputs": [
    {
     "data": {
      "text/plain": [
       "1    999998\n",
       "0         2\n",
       "Name: bridge, dtype: int64"
      ]
     },
     "execution_count": 87,
     "metadata": {},
     "output_type": "execute_result"
    }
   ],
   "source": [
    "n_simulations = int(1e6)\n",
    "\n",
    "# Generating data for n_composants and n_simulations with failure probability of p\n",
    "df = pd.DataFrame(\n",
    "    data = np.where(np.random.random(size=(n_simulations, n_composants)) > q_prime, 1, 0),\n",
    "    columns = [f'composant_{i+1}' for i in range(n_composants)])\n",
    "\n",
    "# bridge column takes value 1 if working, else 0.\n",
    "df['bridge'] = df.apply(is_bridge_working, axis=1)\n",
    "\n",
    "# counting values in bridge column\n",
    "df.bridge.value_counts()"
   ]
  },
  {
   "cell_type": "code",
   "execution_count": 88,
   "metadata": {},
   "outputs": [
    {
     "name": "stdout",
     "output_type": "stream",
     "text": [
      "Variance = 2.0000e-06\n"
     ]
    }
   ],
   "source": [
    "variance = df.bridge.var()\n",
    "print(f'Variance = {variance:.4e}')"
   ]
  },
  {
   "cell_type": "markdown",
   "metadata": {},
   "source": [
    "Maintenant que nous obtenons une variance non nulle, on peut estimer le nombre de simulations $n$ nécessaire pour satisfaire la contrainte de précision donnée à la question précédente"
   ]
  },
  {
   "cell_type": "markdown",
   "metadata": {},
   "source": [
    "On peut borner $Var(h(X)) \\leq C$ avec $C = 5.10^{-6}$\n",
    "\n",
    "On a ainsi : \n",
    "$$n \\geq \\frac{C}{\\theta\\epsilon^2} \\\\\n",
    "n \\geq \\frac{5.10^{-6}}{(10^{-2})^2*5*10^{-2}} \\\\\n",
    "n \\geq 1\n",
    "$$"
   ]
  },
  {
   "cell_type": "markdown",
   "metadata": {},
   "source": [
    "Finalement, cette nouvelle loi permet d'obtenir une variance bien plus faible (4 ordres de grandeur). Ce résultat est cohérent puisque la probabilité d'une panne du pont se trouvera grandement réduite avec la diminution de q' (induite par l'augmentation de $t$). Pour obtenir une même précision, il suffira d'une seule simulation contre 100 avec la première loi utilisée."
   ]
  }
 ],
 "metadata": {
  "kernelspec": {
   "display_name": "Python 3",
   "language": "python",
   "name": "python3"
  },
  "language_info": {
   "codemirror_mode": {
    "name": "ipython",
    "version": 3
   },
   "file_extension": ".py",
   "mimetype": "text/x-python",
   "name": "python",
   "nbconvert_exporter": "python",
   "pygments_lexer": "ipython3",
   "version": "3.7.3"
  }
 },
 "nbformat": 4,
 "nbformat_minor": 4
}
